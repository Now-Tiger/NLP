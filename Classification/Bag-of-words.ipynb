{
 "cells": [
  {
   "cell_type": "markdown",
   "id": "427a7e91",
   "metadata": {},
   "source": [
    "# Text Classification with Bag of Words - Natural Language Processing\n",
    "\n",
    "![](https://i.imgur.com/hlEQ5X8.png)\n",
    "\n",
    "> _\"Natural language processing (NLP) is a subfield of linguistics, computer science, and artificial intelligence concerned with the interactions between computers and human language, in particular how to program computers to process and analyze large amounts of natural language data.\"_ - Wikipedia\n",
    "\n",
    "> _**Bag of Words**: The bag-of-words (BOW) model is a representation that turns arbitrary text into fixed-length vectors by counting how many times each word appears._\n",
    " \n",
    "Outline:\n",
    "\n",
    "1. Download and explore a real-world dataset\n",
    "2. Apply text preprocessing techniques\n",
    "3. Implement the bag of words model\n",
    "4. Train ML models for text classification\n",
    "5. Make predictions and submit to Kaggle\n",
    "\n",
    "\n",
    "Dataset: https://www.kaggle.com/c/quora-insincere-questions-classification\n"
   ]
  },
  {
   "cell_type": "markdown",
   "id": "6fc443df",
   "metadata": {},
   "source": [
    "## General Description\n",
    "In this competition you will be predicting whether a question asked on Quora is sincere or not.\n",
    "\n",
    "An insincere question is defined as a question intended to make a statement rather than look for helpful answers. Some characteristics that can signify that a question is insincere:\n",
    "\n",
    "- Has a non-neutral tone\n",
    "Has an exaggerated tone to underscore a point about a group of people\n",
    "Is rhetorical and meant to imply a statement about a group of people\n",
    "<br>\n",
    "\n",
    "- Is disparaging or inflammatory\n",
    "Suggests a discriminatory idea against a protected class of people, or seeks confirmation of a stereotype<br>\n",
    "Makes disparaging attacks/insults against a specific person or group of people<br>\n",
    "Based on an outlandish premise about a group of people<br>\n",
    "Disparages against a characteristic that is not fixable and not measurable<br>\n",
    "<br>\n",
    "\n",
    "- Isn't grounded in reality<br>\n",
    "Based on false information, or contains absurd assumptions\n",
    "<br>\n",
    "\n",
    "- Uses sexual content (incest, bestiality, pedophilia) for shock value, and not to seek genuine answers<br>\n",
    "<br>\n",
    "\n",
    "The training data includes the question that was asked, and whether it was identified as insincere (target = 1). The ground-truth labels contain some amount of noise: they are not guaranteed to be perfect.\n",
    "\n",
    "Note that the distribution of questions in the dataset should not be taken to be representative of the distribution of questions asked on Quora. This is, in part, because of the combination of sampling procedures and sanitization measures that have been applied to the final dataset."
   ]
  },
  {
   "cell_type": "code",
   "execution_count": 41,
   "id": "b6f9c1d4",
   "metadata": {},
   "outputs": [],
   "source": [
    "from __future__ import (annotations, print_function,)\n",
    "\n",
    "%matplotlib inline\n",
    "import re\n",
    "from typing import List\n",
    "\n",
    "import pandas as pd\n",
    "import numpy as np\n",
    "\n",
    "from textblob import TextBlob\n",
    "from nltk.corpus import stopwords\n",
    "from nltk.tokenize import word_tokenize\n",
    "from nltk.stem.snowball import SnowballStemmer \n",
    "\n",
    "from sklearn.feature_extraction.text import CountVectorizer\n",
    "from sklearn.model_selection import train_test_split as split\n",
    "from sklearn.metrics import accuracy_score, f1_score\n",
    "from sklearn.linear_model import LogisticRegression\n",
    "\n",
    "import matplotlib.pyplot as plt\n",
    "import seaborn as sns\n",
    "\n",
    "from warnings import filterwarnings\n",
    "sns.set_style('whitegrid')\n",
    "filterwarnings(\"ignore\")"
   ]
  },
  {
   "cell_type": "markdown",
   "id": "4f713bf5",
   "metadata": {},
   "source": [
    "## Read Quora Training Dataset: 📖"
   ]
  },
  {
   "cell_type": "code",
   "execution_count": 2,
   "id": "10e83058",
   "metadata": {},
   "outputs": [
    {
     "data": {
      "text/html": [
       "<div>\n",
       "<style scoped>\n",
       "    .dataframe tbody tr th:only-of-type {\n",
       "        vertical-align: middle;\n",
       "    }\n",
       "\n",
       "    .dataframe tbody tr th {\n",
       "        vertical-align: top;\n",
       "    }\n",
       "\n",
       "    .dataframe thead th {\n",
       "        text-align: right;\n",
       "    }\n",
       "</style>\n",
       "<table border=\"1\" class=\"dataframe\">\n",
       "  <thead>\n",
       "    <tr style=\"text-align: right;\">\n",
       "      <th></th>\n",
       "      <th>qid</th>\n",
       "      <th>question_text</th>\n",
       "      <th>target</th>\n",
       "    </tr>\n",
       "  </thead>\n",
       "  <tbody>\n",
       "    <tr>\n",
       "      <th>0</th>\n",
       "      <td>00002165364db923c7e6</td>\n",
       "      <td>How did Quebec nationalists see their province...</td>\n",
       "      <td>0</td>\n",
       "    </tr>\n",
       "    <tr>\n",
       "      <th>1</th>\n",
       "      <td>000032939017120e6e44</td>\n",
       "      <td>Do you have an adopted dog, how would you enco...</td>\n",
       "      <td>0</td>\n",
       "    </tr>\n",
       "    <tr>\n",
       "      <th>2</th>\n",
       "      <td>0000412ca6e4628ce2cf</td>\n",
       "      <td>Why does velocity affect time? Does velocity a...</td>\n",
       "      <td>0</td>\n",
       "    </tr>\n",
       "    <tr>\n",
       "      <th>3</th>\n",
       "      <td>000042bf85aa498cd78e</td>\n",
       "      <td>How did Otto von Guericke used the Magdeburg h...</td>\n",
       "      <td>0</td>\n",
       "    </tr>\n",
       "    <tr>\n",
       "      <th>4</th>\n",
       "      <td>0000455dfa3e01eae3af</td>\n",
       "      <td>Can I convert montra helicon D to a mountain b...</td>\n",
       "      <td>0</td>\n",
       "    </tr>\n",
       "  </tbody>\n",
       "</table>\n",
       "</div>"
      ],
      "text/plain": [
       "                    qid                                      question_text  \\\n",
       "0  00002165364db923c7e6  How did Quebec nationalists see their province...   \n",
       "1  000032939017120e6e44  Do you have an adopted dog, how would you enco...   \n",
       "2  0000412ca6e4628ce2cf  Why does velocity affect time? Does velocity a...   \n",
       "3  000042bf85aa498cd78e  How did Otto von Guericke used the Magdeburg h...   \n",
       "4  0000455dfa3e01eae3af  Can I convert montra helicon D to a mountain b...   \n",
       "\n",
       "   target  \n",
       "0       0  \n",
       "1       0  \n",
       "2       0  \n",
       "3       0  \n",
       "4       0  "
      ]
     },
     "execution_count": 2,
     "metadata": {},
     "output_type": "execute_result"
    }
   ],
   "source": [
    "# https://towardsdatascience.com/a-complete-exploratory-data-analysis-and-visualization-for-text-data-29fb1b96fb6a\n",
    "# follow the link for visualizations and eda --\n",
    "\n",
    "data = pd.read_csv(\"../Data/train.csv\")\n",
    "data.head()"
   ]
  },
  {
   "cell_type": "code",
   "execution_count": 3,
   "id": "999e2dfe",
   "metadata": {},
   "outputs": [
    {
     "data": {
      "text/html": [
       "<div>\n",
       "<style scoped>\n",
       "    .dataframe tbody tr th:only-of-type {\n",
       "        vertical-align: middle;\n",
       "    }\n",
       "\n",
       "    .dataframe tbody tr th {\n",
       "        vertical-align: top;\n",
       "    }\n",
       "\n",
       "    .dataframe thead th {\n",
       "        text-align: right;\n",
       "    }\n",
       "</style>\n",
       "<table border=\"1\" class=\"dataframe\">\n",
       "  <thead>\n",
       "    <tr style=\"text-align: right;\">\n",
       "      <th></th>\n",
       "      <th>qid</th>\n",
       "      <th>question_text</th>\n",
       "      <th>target</th>\n",
       "    </tr>\n",
       "  </thead>\n",
       "  <tbody>\n",
       "    <tr>\n",
       "      <th>1021250</th>\n",
       "      <td>c8207891207ae8b7be6e</td>\n",
       "      <td>What role do you see yourself playing as China...</td>\n",
       "      <td>0</td>\n",
       "    </tr>\n",
       "    <tr>\n",
       "      <th>44432</th>\n",
       "      <td>08b3e5790147a61b0037</td>\n",
       "      <td>What are the models of Redmi mobile?</td>\n",
       "      <td>0</td>\n",
       "    </tr>\n",
       "    <tr>\n",
       "      <th>743579</th>\n",
       "      <td>91a418dbe14701a32dd2</td>\n",
       "      <td>How do you let someone know you like them with...</td>\n",
       "      <td>0</td>\n",
       "    </tr>\n",
       "    <tr>\n",
       "      <th>1022321</th>\n",
       "      <td>c85694730770417834a5</td>\n",
       "      <td>How are nominal mix ratios (M5 - M25) affected...</td>\n",
       "      <td>0</td>\n",
       "    </tr>\n",
       "    <tr>\n",
       "      <th>172304</th>\n",
       "      <td>21b1a674ec6cedea45b8</td>\n",
       "      <td>What are the current frontrunners in IoT?</td>\n",
       "      <td>0</td>\n",
       "    </tr>\n",
       "  </tbody>\n",
       "</table>\n",
       "</div>"
      ],
      "text/plain": [
       "                          qid  \\\n",
       "1021250  c8207891207ae8b7be6e   \n",
       "44432    08b3e5790147a61b0037   \n",
       "743579   91a418dbe14701a32dd2   \n",
       "1022321  c85694730770417834a5   \n",
       "172304   21b1a674ec6cedea45b8   \n",
       "\n",
       "                                             question_text  target  \n",
       "1021250  What role do you see yourself playing as China...       0  \n",
       "44432                 What are the models of Redmi mobile?       0  \n",
       "743579   How do you let someone know you like them with...       0  \n",
       "1022321  How are nominal mix ratios (M5 - M25) affected...       0  \n",
       "172304           What are the current frontrunners in IoT?       0  "
      ]
     },
     "execution_count": 3,
     "metadata": {},
     "output_type": "execute_result"
    }
   ],
   "source": [
    "sample_data = data.sample(frac = .20)\n",
    "sample_data.head()"
   ]
  },
  {
   "cell_type": "code",
   "execution_count": 4,
   "id": "1b0ac84e",
   "metadata": {},
   "outputs": [],
   "source": [
    "sample_data['popularity'] = sample_data['question_text'].map(lambda text: TextBlob(text).sentiment.polarity)\n",
    "sample_data['question_len'] = sample_data['question_text'].astype(str).apply(len)\n",
    "sample_data['word_count'] = sample_data['question_text'].apply(lambda x: len(str(x).split()))"
   ]
  },
  {
   "cell_type": "code",
   "execution_count": 5,
   "id": "a947bad8",
   "metadata": {},
   "outputs": [
    {
     "data": {
      "text/html": [
       "<div>\n",
       "<style scoped>\n",
       "    .dataframe tbody tr th:only-of-type {\n",
       "        vertical-align: middle;\n",
       "    }\n",
       "\n",
       "    .dataframe tbody tr th {\n",
       "        vertical-align: top;\n",
       "    }\n",
       "\n",
       "    .dataframe thead th {\n",
       "        text-align: right;\n",
       "    }\n",
       "</style>\n",
       "<table border=\"1\" class=\"dataframe\">\n",
       "  <thead>\n",
       "    <tr style=\"text-align: right;\">\n",
       "      <th></th>\n",
       "      <th>qid</th>\n",
       "      <th>question_text</th>\n",
       "      <th>target</th>\n",
       "      <th>popularity</th>\n",
       "      <th>question_len</th>\n",
       "      <th>word_count</th>\n",
       "    </tr>\n",
       "  </thead>\n",
       "  <tbody>\n",
       "    <tr>\n",
       "      <th>1021250</th>\n",
       "      <td>c8207891207ae8b7be6e</td>\n",
       "      <td>What role do you see yourself playing as China...</td>\n",
       "      <td>0</td>\n",
       "      <td>0.000000</td>\n",
       "      <td>78</td>\n",
       "      <td>13</td>\n",
       "    </tr>\n",
       "    <tr>\n",
       "      <th>44432</th>\n",
       "      <td>08b3e5790147a61b0037</td>\n",
       "      <td>What are the models of Redmi mobile?</td>\n",
       "      <td>0</td>\n",
       "      <td>0.000000</td>\n",
       "      <td>36</td>\n",
       "      <td>7</td>\n",
       "    </tr>\n",
       "    <tr>\n",
       "      <th>743579</th>\n",
       "      <td>91a418dbe14701a32dd2</td>\n",
       "      <td>How do you let someone know you like them with...</td>\n",
       "      <td>0</td>\n",
       "      <td>-0.416667</td>\n",
       "      <td>112</td>\n",
       "      <td>21</td>\n",
       "    </tr>\n",
       "    <tr>\n",
       "      <th>1022321</th>\n",
       "      <td>c85694730770417834a5</td>\n",
       "      <td>How are nominal mix ratios (M5 - M25) affected...</td>\n",
       "      <td>0</td>\n",
       "      <td>0.000000</td>\n",
       "      <td>89</td>\n",
       "      <td>16</td>\n",
       "    </tr>\n",
       "    <tr>\n",
       "      <th>172304</th>\n",
       "      <td>21b1a674ec6cedea45b8</td>\n",
       "      <td>What are the current frontrunners in IoT?</td>\n",
       "      <td>0</td>\n",
       "      <td>0.000000</td>\n",
       "      <td>41</td>\n",
       "      <td>7</td>\n",
       "    </tr>\n",
       "    <tr>\n",
       "      <th>736355</th>\n",
       "      <td>903634e0798cd26201fb</td>\n",
       "      <td>How can I find the domain and range of [math] ...</td>\n",
       "      <td>0</td>\n",
       "      <td>0.000000</td>\n",
       "      <td>73</td>\n",
       "      <td>14</td>\n",
       "    </tr>\n",
       "    <tr>\n",
       "      <th>1175554</th>\n",
       "      <td>e660ac497ed1c3091857</td>\n",
       "      <td>What is the employees intake and retirements r...</td>\n",
       "      <td>0</td>\n",
       "      <td>0.000000</td>\n",
       "      <td>75</td>\n",
       "      <td>13</td>\n",
       "    </tr>\n",
       "    <tr>\n",
       "      <th>338978</th>\n",
       "      <td>4268e7da04b801675bf1</td>\n",
       "      <td>Can there be absolute morality without god?</td>\n",
       "      <td>0</td>\n",
       "      <td>0.200000</td>\n",
       "      <td>43</td>\n",
       "      <td>7</td>\n",
       "    </tr>\n",
       "    <tr>\n",
       "      <th>1024088</th>\n",
       "      <td>c8ae4076806702d58f75</td>\n",
       "      <td>Wot is the average anount of tax payable out o...</td>\n",
       "      <td>0</td>\n",
       "      <td>-0.150000</td>\n",
       "      <td>66</td>\n",
       "      <td>13</td>\n",
       "    </tr>\n",
       "    <tr>\n",
       "      <th>463764</th>\n",
       "      <td>5ace94dd708b381b33a8</td>\n",
       "      <td>What do you think of the new Kijiji UI?</td>\n",
       "      <td>0</td>\n",
       "      <td>0.136364</td>\n",
       "      <td>39</td>\n",
       "      <td>9</td>\n",
       "    </tr>\n",
       "    <tr>\n",
       "      <th>134258</th>\n",
       "      <td>1a462e11e36083594907</td>\n",
       "      <td>How safe is it for Chinese woman to work and s...</td>\n",
       "      <td>0</td>\n",
       "      <td>0.250000</td>\n",
       "      <td>64</td>\n",
       "      <td>13</td>\n",
       "    </tr>\n",
       "    <tr>\n",
       "      <th>993003</th>\n",
       "      <td>c2967312fc2284a0109b</td>\n",
       "      <td>What are some unique characteristics about dem...</td>\n",
       "      <td>0</td>\n",
       "      <td>0.191667</td>\n",
       "      <td>109</td>\n",
       "      <td>13</td>\n",
       "    </tr>\n",
       "    <tr>\n",
       "      <th>514867</th>\n",
       "      <td>64cf8ca41599583e6fac</td>\n",
       "      <td>When positioning the studio monitors in a home...</td>\n",
       "      <td>0</td>\n",
       "      <td>1.000000</td>\n",
       "      <td>137</td>\n",
       "      <td>23</td>\n",
       "    </tr>\n",
       "    <tr>\n",
       "      <th>123182</th>\n",
       "      <td>181c31a9f1e699d5ca2a</td>\n",
       "      <td>What are the chances of dreaming the distant f...</td>\n",
       "      <td>0</td>\n",
       "      <td>-0.050000</td>\n",
       "      <td>52</td>\n",
       "      <td>9</td>\n",
       "    </tr>\n",
       "    <tr>\n",
       "      <th>30457</th>\n",
       "      <td>05f36d6d1741df58026a</td>\n",
       "      <td>What is a good recipe for boneless pork ribs i...</td>\n",
       "      <td>0</td>\n",
       "      <td>0.700000</td>\n",
       "      <td>60</td>\n",
       "      <td>13</td>\n",
       "    </tr>\n",
       "    <tr>\n",
       "      <th>719337</th>\n",
       "      <td>8cd221dbef5447e28f3a</td>\n",
       "      <td>Is this honda a good one in the desert? Http:/...</td>\n",
       "      <td>0</td>\n",
       "      <td>0.700000</td>\n",
       "      <td>109</td>\n",
       "      <td>10</td>\n",
       "    </tr>\n",
       "    <tr>\n",
       "      <th>1204478</th>\n",
       "      <td>ec142e71a484eebb4f11</td>\n",
       "      <td>When did Richard Muller feel that he must go b...</td>\n",
       "      <td>0</td>\n",
       "      <td>-0.250000</td>\n",
       "      <td>104</td>\n",
       "      <td>20</td>\n",
       "    </tr>\n",
       "    <tr>\n",
       "      <th>382358</th>\n",
       "      <td>4aefdf7df2c5f64a514d</td>\n",
       "      <td>Is there any way to find out what Health insur...</td>\n",
       "      <td>0</td>\n",
       "      <td>0.100000</td>\n",
       "      <td>95</td>\n",
       "      <td>19</td>\n",
       "    </tr>\n",
       "    <tr>\n",
       "      <th>819615</th>\n",
       "      <td>a09926a94dafa8f18780</td>\n",
       "      <td>Why is everything getting expensive when there...</td>\n",
       "      <td>0</td>\n",
       "      <td>-0.500000</td>\n",
       "      <td>88</td>\n",
       "      <td>15</td>\n",
       "    </tr>\n",
       "    <tr>\n",
       "      <th>1294974</th>\n",
       "      <td>fdcd81b6914bdaa3422a</td>\n",
       "      <td>If two waves travelling opposite each other me...</td>\n",
       "      <td>0</td>\n",
       "      <td>-0.062500</td>\n",
       "      <td>83</td>\n",
       "      <td>14</td>\n",
       "    </tr>\n",
       "  </tbody>\n",
       "</table>\n",
       "</div>"
      ],
      "text/plain": [
       "                          qid  \\\n",
       "1021250  c8207891207ae8b7be6e   \n",
       "44432    08b3e5790147a61b0037   \n",
       "743579   91a418dbe14701a32dd2   \n",
       "1022321  c85694730770417834a5   \n",
       "172304   21b1a674ec6cedea45b8   \n",
       "736355   903634e0798cd26201fb   \n",
       "1175554  e660ac497ed1c3091857   \n",
       "338978   4268e7da04b801675bf1   \n",
       "1024088  c8ae4076806702d58f75   \n",
       "463764   5ace94dd708b381b33a8   \n",
       "134258   1a462e11e36083594907   \n",
       "993003   c2967312fc2284a0109b   \n",
       "514867   64cf8ca41599583e6fac   \n",
       "123182   181c31a9f1e699d5ca2a   \n",
       "30457    05f36d6d1741df58026a   \n",
       "719337   8cd221dbef5447e28f3a   \n",
       "1204478  ec142e71a484eebb4f11   \n",
       "382358   4aefdf7df2c5f64a514d   \n",
       "819615   a09926a94dafa8f18780   \n",
       "1294974  fdcd81b6914bdaa3422a   \n",
       "\n",
       "                                             question_text  target  \\\n",
       "1021250  What role do you see yourself playing as China...       0   \n",
       "44432                 What are the models of Redmi mobile?       0   \n",
       "743579   How do you let someone know you like them with...       0   \n",
       "1022321  How are nominal mix ratios (M5 - M25) affected...       0   \n",
       "172304           What are the current frontrunners in IoT?       0   \n",
       "736355   How can I find the domain and range of [math] ...       0   \n",
       "1175554  What is the employees intake and retirements r...       0   \n",
       "338978         Can there be absolute morality without god?       0   \n",
       "1024088  Wot is the average anount of tax payable out o...       0   \n",
       "463764             What do you think of the new Kijiji UI?       0   \n",
       "134258   How safe is it for Chinese woman to work and s...       0   \n",
       "993003   What are some unique characteristics about dem...       0   \n",
       "514867   When positioning the studio monitors in a home...       0   \n",
       "123182   What are the chances of dreaming the distant f...       0   \n",
       "30457    What is a good recipe for boneless pork ribs i...       0   \n",
       "719337   Is this honda a good one in the desert? Http:/...       0   \n",
       "1204478  When did Richard Muller feel that he must go b...       0   \n",
       "382358   Is there any way to find out what Health insur...       0   \n",
       "819615   Why is everything getting expensive when there...       0   \n",
       "1294974  If two waves travelling opposite each other me...       0   \n",
       "\n",
       "         popularity  question_len  word_count  \n",
       "1021250    0.000000            78          13  \n",
       "44432      0.000000            36           7  \n",
       "743579    -0.416667           112          21  \n",
       "1022321    0.000000            89          16  \n",
       "172304     0.000000            41           7  \n",
       "736355     0.000000            73          14  \n",
       "1175554    0.000000            75          13  \n",
       "338978     0.200000            43           7  \n",
       "1024088   -0.150000            66          13  \n",
       "463764     0.136364            39           9  \n",
       "134258     0.250000            64          13  \n",
       "993003     0.191667           109          13  \n",
       "514867     1.000000           137          23  \n",
       "123182    -0.050000            52           9  \n",
       "30457      0.700000            60          13  \n",
       "719337     0.700000           109          10  \n",
       "1204478   -0.250000           104          20  \n",
       "382358     0.100000            95          19  \n",
       "819615    -0.500000            88          15  \n",
       "1294974   -0.062500            83          14  "
      ]
     },
     "execution_count": 5,
     "metadata": {},
     "output_type": "execute_result"
    }
   ],
   "source": [
    "sample_data.head(20)"
   ]
  },
  {
   "cell_type": "code",
   "execution_count": 6,
   "id": "529f10a7",
   "metadata": {},
   "outputs": [
    {
     "name": "stdout",
     "output_type": "stream",
     "text": [
      "<class 'pandas.core.frame.DataFrame'>\n",
      "RangeIndex: 1306122 entries, 0 to 1306121\n",
      "Data columns (total 3 columns):\n",
      " #   Column         Non-Null Count    Dtype \n",
      "---  ------         --------------    ----- \n",
      " 0   qid            1306122 non-null  object\n",
      " 1   question_text  1306122 non-null  object\n",
      " 2   target         1306122 non-null  int64 \n",
      "dtypes: int64(1), object(2)\n",
      "memory usage: 29.9+ MB\n"
     ]
    }
   ],
   "source": [
    "data.info()"
   ]
  },
  {
   "cell_type": "code",
   "execution_count": 8,
   "id": "cfbcf079",
   "metadata": {},
   "outputs": [
    {
     "data": {
      "text/plain": [
       "array(['How did Quebec nationalists see their province as a nation in the 1960s?',\n",
       "       'Do you have an adopted dog, how would you encourage people to adopt and not shop?',\n",
       "       'Why does velocity affect time? Does velocity affect space geometry?',\n",
       "       'How did Otto von Guericke used the Magdeburg hemispheres?',\n",
       "       'Can I convert montra helicon D to a mountain bike by just changing the tyres?',\n",
       "       'Is Gaza slowly becoming Auschwitz, Dachau or Treblinka for Palestinians?',\n",
       "       'Why does Quora automatically ban conservative opinions when reported, but does not do the same for liberal views?',\n",
       "       'Is it crazy if I wash or wipe my groceries off? Germs are everywhere.',\n",
       "       'Is there such a thing as dressing moderately, and if so, how is that different than dressing modestly?',\n",
       "       'Is it just me or have you ever been in this phase wherein you became ignorant to the people you once loved, completely disregarding their feelings/lives so you get to have something go your way and feel temporarily at ease. How did things change?'],\n",
       "      dtype=object)"
      ]
     },
     "execution_count": 8,
     "metadata": {},
     "output_type": "execute_result"
    }
   ],
   "source": [
    "sincere_df = data[data['target'] == 0]\n",
    "sincere_df['question_text'].values[:10]"
   ]
  },
  {
   "cell_type": "code",
   "execution_count": 9,
   "id": "333eea45",
   "metadata": {},
   "outputs": [
    {
     "data": {
      "text/plain": [
       "array(['Has the United States become the largest dictatorship in the world?',\n",
       "       'Which babies are more sweeter to their parents? Dark skin babies or light skin babies?',\n",
       "       \"If blacks support school choice and mandatory sentencing for criminals why don't they vote Republican?\",\n",
       "       'I am gay boy and I love my cousin (boy). He is sexy, but I dont know what to do. He is hot, and I want to see his di**. What should I do?',\n",
       "       'Which races have the smallest penis?',\n",
       "       'Why do females find penises ugly?',\n",
       "       'How do I marry an American woman for a Green Card? How much do they charge?',\n",
       "       \"Why do Europeans say they're the superior race, when in fact it took them over 2,000 years until mid 19th century to surpass China's largest economy?\",\n",
       "       'Did Julius Caesar bring a tyrannosaurus rex on his campaigns to frighten the Celts into submission?',\n",
       "       \"In what manner has Republican backing of 'states rights' been hypocritical and what ways have they actually restricted the ability of states to make their own laws?\"],\n",
       "      dtype=object)"
      ]
     },
     "execution_count": 9,
     "metadata": {},
     "output_type": "execute_result"
    }
   ],
   "source": [
    "insincere_df = data[data['target'] == 1]\n",
    "insincere_df.question_text.values[:10]"
   ]
  },
  {
   "cell_type": "code",
   "execution_count": 10,
   "id": "def23ba8",
   "metadata": {},
   "outputs": [
    {
     "name": "stdout",
     "output_type": "stream",
     "text": [
      "Tagret Variable:\n",
      "0    0.93813\n",
      "1    0.06187\n",
      "Name: target, dtype: float64\n"
     ]
    },
    {
     "data": {
      "image/png": "[encoded data removed]",
      "text/plain": [
       "<Figure size 800x560 with 1 Axes>"
      ]
     },
     "metadata": {},
     "output_type": "display_data"
    }
   ],
   "source": [
    "print(f\"Tagret Variable:\\n{data.target.value_counts(normalize=True)}\")\n",
    "plt.figure(figsize=(10, 7), dpi=80)\n",
    "plt.title(\"Countplot of target variable\", size = 20, pad = 20)\n",
    "data.target.value_counts(normalize=True).plot.bar(color=['teal', 'skyblue'])\n",
    "plt.show()"
   ]
  },
  {
   "cell_type": "markdown",
   "id": "75758496",
   "metadata": {},
   "source": [
    "## Work on sample / fraction of the population data:"
   ]
  },
  {
   "cell_type": "code",
   "execution_count": 15,
   "id": "00eca477",
   "metadata": {},
   "outputs": [
    {
     "data": {
      "text/html": [
       "<div>\n",
       "<style scoped>\n",
       "    .dataframe tbody tr th:only-of-type {\n",
       "        vertical-align: middle;\n",
       "    }\n",
       "\n",
       "    .dataframe tbody tr th {\n",
       "        vertical-align: top;\n",
       "    }\n",
       "\n",
       "    .dataframe thead th {\n",
       "        text-align: right;\n",
       "    }\n",
       "</style>\n",
       "<table border=\"1\" class=\"dataframe\">\n",
       "  <thead>\n",
       "    <tr style=\"text-align: right;\">\n",
       "      <th></th>\n",
       "      <th>question_text</th>\n",
       "      <th>target</th>\n",
       "    </tr>\n",
       "  </thead>\n",
       "  <tbody>\n",
       "    <tr>\n",
       "      <th>0</th>\n",
       "      <td>What is the most effective classroom managemen...</td>\n",
       "      <td>0</td>\n",
       "    </tr>\n",
       "    <tr>\n",
       "      <th>1</th>\n",
       "      <td>Can I study abroad after 10th class from Bangl...</td>\n",
       "      <td>0</td>\n",
       "    </tr>\n",
       "    <tr>\n",
       "      <th>2</th>\n",
       "      <td>How can I make friends as a college junior?</td>\n",
       "      <td>0</td>\n",
       "    </tr>\n",
       "    <tr>\n",
       "      <th>3</th>\n",
       "      <td>How do I download free APK Minecraft: Pocket E...</td>\n",
       "      <td>0</td>\n",
       "    </tr>\n",
       "    <tr>\n",
       "      <th>4</th>\n",
       "      <td>Like Kuvera, is \"Groww\" also a free online inv...</td>\n",
       "      <td>0</td>\n",
       "    </tr>\n",
       "    <tr>\n",
       "      <th>...</th>\n",
       "      <td>...</td>\n",
       "      <td>...</td>\n",
       "    </tr>\n",
       "    <tr>\n",
       "      <th>99995</th>\n",
       "      <td>How do I research list of reliable charcoal im...</td>\n",
       "      <td>0</td>\n",
       "    </tr>\n",
       "    <tr>\n",
       "      <th>99996</th>\n",
       "      <td>What are petroleum products, and what is petro...</td>\n",
       "      <td>0</td>\n",
       "    </tr>\n",
       "    <tr>\n",
       "      <th>99997</th>\n",
       "      <td>What are some services that will let you quick...</td>\n",
       "      <td>0</td>\n",
       "    </tr>\n",
       "    <tr>\n",
       "      <th>99998</th>\n",
       "      <td>What credit card processors do online marketpl...</td>\n",
       "      <td>0</td>\n",
       "    </tr>\n",
       "    <tr>\n",
       "      <th>99999</th>\n",
       "      <td>On which number system does a computer work?</td>\n",
       "      <td>0</td>\n",
       "    </tr>\n",
       "  </tbody>\n",
       "</table>\n",
       "<p>100000 rows × 2 columns</p>\n",
       "</div>"
      ],
      "text/plain": [
       "                                           question_text  target\n",
       "0      What is the most effective classroom managemen...       0\n",
       "1      Can I study abroad after 10th class from Bangl...       0\n",
       "2            How can I make friends as a college junior?       0\n",
       "3      How do I download free APK Minecraft: Pocket E...       0\n",
       "4      Like Kuvera, is \"Groww\" also a free online inv...       0\n",
       "...                                                  ...     ...\n",
       "99995  How do I research list of reliable charcoal im...       0\n",
       "99996  What are petroleum products, and what is petro...       0\n",
       "99997  What are some services that will let you quick...       0\n",
       "99998  What credit card processors do online marketpl...       0\n",
       "99999       On which number system does a computer work?       0\n",
       "\n",
       "[100000 rows x 2 columns]"
      ]
     },
     "execution_count": 15,
     "metadata": {},
     "output_type": "execute_result"
    }
   ],
   "source": [
    "SAMPLE_SIZE = 100_000\n",
    "sample_df = data.sample(SAMPLE_SIZE, random_state=42)\n",
    "sample_df.drop(columns=['qid'], inplace=True)\n",
    "sample_df.reset_index(drop=True)"
   ]
  },
  {
   "cell_type": "markdown",
   "id": "c362e814",
   "metadata": {},
   "source": [
    "## Text Preprocessing Techniques\n",
    "\n",
    "Outline:\n",
    "\n",
    "1. Understand the bag of words model\n",
    "2. Tokenization\n",
    "3. Stop word removal\n",
    "4. Stemming"
   ]
  },
  {
   "cell_type": "code",
   "execution_count": 16,
   "id": "69cef0f7",
   "metadata": {},
   "outputs": [
    {
     "data": {
      "text/plain": [
       "0    0.93962\n",
       "1    0.06038\n",
       "Name: target, dtype: float64"
      ]
     },
     "execution_count": 16,
     "metadata": {},
     "output_type": "execute_result"
    }
   ],
   "source": [
    "sample_df.target.value_counts(normalize=True)"
   ]
  },
  {
   "cell_type": "markdown",
   "id": "e6396e69",
   "metadata": {},
   "source": [
    "## Cleaning the question_text column."
   ]
  },
  {
   "cell_type": "code",
   "execution_count": 17,
   "id": "e4d7ba13",
   "metadata": {},
   "outputs": [
    {
     "data": {
      "text/html": [
       "<div>\n",
       "<style scoped>\n",
       "    .dataframe tbody tr th:only-of-type {\n",
       "        vertical-align: middle;\n",
       "    }\n",
       "\n",
       "    .dataframe tbody tr th {\n",
       "        vertical-align: top;\n",
       "    }\n",
       "\n",
       "    .dataframe thead th {\n",
       "        text-align: right;\n",
       "    }\n",
       "</style>\n",
       "<table border=\"1\" class=\"dataframe\">\n",
       "  <thead>\n",
       "    <tr style=\"text-align: right;\">\n",
       "      <th></th>\n",
       "      <th>question_text</th>\n",
       "      <th>target</th>\n",
       "      <th>clean</th>\n",
       "    </tr>\n",
       "  </thead>\n",
       "  <tbody>\n",
       "    <tr>\n",
       "      <th>443046</th>\n",
       "      <td>What is the most effective classroom managemen...</td>\n",
       "      <td>0</td>\n",
       "      <td>what is the most effective classroom managemen...</td>\n",
       "    </tr>\n",
       "    <tr>\n",
       "      <th>947549</th>\n",
       "      <td>Can I study abroad after 10th class from Bangl...</td>\n",
       "      <td>0</td>\n",
       "      <td>can i study abroad after 10th class from bangl...</td>\n",
       "    </tr>\n",
       "    <tr>\n",
       "      <th>523769</th>\n",
       "      <td>How can I make friends as a college junior?</td>\n",
       "      <td>0</td>\n",
       "      <td>how can i make friends as a college junior?</td>\n",
       "    </tr>\n",
       "    <tr>\n",
       "      <th>949821</th>\n",
       "      <td>How do I download free APK Minecraft: Pocket E...</td>\n",
       "      <td>0</td>\n",
       "      <td>how do i download free apk minecraft: pocket e...</td>\n",
       "    </tr>\n",
       "    <tr>\n",
       "      <th>1030397</th>\n",
       "      <td>Like Kuvera, is \"Groww\" also a free online inv...</td>\n",
       "      <td>0</td>\n",
       "      <td>like kuvera, is \"groww\" also a free online inv...</td>\n",
       "    </tr>\n",
       "    <tr>\n",
       "      <th>...</th>\n",
       "      <td>...</td>\n",
       "      <td>...</td>\n",
       "      <td>...</td>\n",
       "    </tr>\n",
       "    <tr>\n",
       "      <th>998930</th>\n",
       "      <td>How do I research list of reliable charcoal im...</td>\n",
       "      <td>0</td>\n",
       "      <td>how do i research list of reliable charcoal im...</td>\n",
       "    </tr>\n",
       "    <tr>\n",
       "      <th>66641</th>\n",
       "      <td>What are petroleum products, and what is petro...</td>\n",
       "      <td>0</td>\n",
       "      <td>what are petroleum products, and what is petro...</td>\n",
       "    </tr>\n",
       "    <tr>\n",
       "      <th>90024</th>\n",
       "      <td>What are some services that will let you quick...</td>\n",
       "      <td>0</td>\n",
       "      <td>what are some services that will let you quick...</td>\n",
       "    </tr>\n",
       "    <tr>\n",
       "      <th>130113</th>\n",
       "      <td>What credit card processors do online marketpl...</td>\n",
       "      <td>0</td>\n",
       "      <td>what credit card processors do online marketpl...</td>\n",
       "    </tr>\n",
       "    <tr>\n",
       "      <th>1137</th>\n",
       "      <td>On which number system does a computer work?</td>\n",
       "      <td>0</td>\n",
       "      <td>on which number system does a computer work?</td>\n",
       "    </tr>\n",
       "  </tbody>\n",
       "</table>\n",
       "<p>100000 rows × 3 columns</p>\n",
       "</div>"
      ],
      "text/plain": [
       "                                             question_text  target  \\\n",
       "443046   What is the most effective classroom managemen...       0   \n",
       "947549   Can I study abroad after 10th class from Bangl...       0   \n",
       "523769         How can I make friends as a college junior?       0   \n",
       "949821   How do I download free APK Minecraft: Pocket E...       0   \n",
       "1030397  Like Kuvera, is \"Groww\" also a free online inv...       0   \n",
       "...                                                    ...     ...   \n",
       "998930   How do I research list of reliable charcoal im...       0   \n",
       "66641    What are petroleum products, and what is petro...       0   \n",
       "90024    What are some services that will let you quick...       0   \n",
       "130113   What credit card processors do online marketpl...       0   \n",
       "1137          On which number system does a computer work?       0   \n",
       "\n",
       "                                                     clean  \n",
       "443046   what is the most effective classroom managemen...  \n",
       "947549   can i study abroad after 10th class from bangl...  \n",
       "523769         how can i make friends as a college junior?  \n",
       "949821   how do i download free apk minecraft: pocket e...  \n",
       "1030397  like kuvera, is \"groww\" also a free online inv...  \n",
       "...                                                    ...  \n",
       "998930   how do i research list of reliable charcoal im...  \n",
       "66641    what are petroleum products, and what is petro...  \n",
       "90024    what are some services that will let you quick...  \n",
       "130113   what credit card processors do online marketpl...  \n",
       "1137          on which number system does a computer work?  \n",
       "\n",
       "[100000 rows x 3 columns]"
      ]
     },
     "execution_count": 17,
     "metadata": {},
     "output_type": "execute_result"
    }
   ],
   "source": [
    "# -- lowercase the text data: good for stopwords remvoal --\n",
    "sample_df['clean'] = sample_df['question_text'].apply(lambda x: \" \".join(x.lower() for x in x.split(\"-\")))\n",
    "sample_df"
   ]
  },
  {
   "cell_type": "code",
   "execution_count": 18,
   "id": "0415388d",
   "metadata": {},
   "outputs": [
    {
     "data": {
      "text/plain": [
       "array(['is yahoo owned by the jews',\n",
       "       'if macedonia is supposedly purely greek and so important to greece then why they have an english cross and not the vergina sun on their flag',\n",
       "       'this is a question for muslims because american women dress very open do they deserve to get raped when it happens and is it encouraged i am not trying to be sick or funny just want a honest answer',\n",
       "       'could the numerous acts of arms being severed in the star wars franchise be metaphors for the scientific procedure of castration',\n",
       "       'should plus size women wear dresses and skirts only',\n",
       "       'who carried out most terrorist attacks on the usa muslims or non muslims',\n",
       "       'why do we constantly get questions from gun grabbing trolls in an attempt to upset the pro a crowd',\n",
       "       'does tamil brahmins have more entrepreneurship in their genes compared to telugu brahmins',\n",
       "       'do all atheists want to be immortal',\n",
       "       'if most nice guys are aspergers and nice guys are manipulative does that mean aspergers are manipulative'],\n",
       "      dtype=object)"
      ]
     },
     "execution_count": 18,
     "metadata": {},
     "output_type": "execute_result"
    }
   ],
   "source": [
    "sample_df['clean'] = sample_df['clean'].str.replace(r'[^\\w\\s]', '', regex=True)\n",
    "sample_df['clean'] = sample_df['clean'].str.replace(r'[0-9]', '', regex=True)\n",
    "sample_df[sample_df['target'] == 1]['clean'].values[:10]"
   ]
  },
  {
   "cell_type": "code",
   "execution_count": 19,
   "id": "e7aaf4ef",
   "metadata": {},
   "outputs": [
    {
     "data": {
      "text/plain": [
       "array(['is there any brothel in nashik',\n",
       "       'am i engaging in harassment when i ask out a crush over text',\n",
       "       'should christian churches in western countries allow teenagers to have sex in the church after the evening mass',\n",
       "       'how is the phrase tough break used',\n",
       "       'how should i prepare for theresa mays new internet regulation policies',\n",
       "       'how do i research list of reliable charcoal importers',\n",
       "       'what are petroleum products and what is petroleum used for',\n",
       "       'what are some services that will let you quickly separate parts of a video at the five minute and ten minute mark into two separate videos',\n",
       "       'what credit card processors do online marketplaces use',\n",
       "       'on which number system does a computer work'], dtype=object)"
      ]
     },
     "execution_count": 19,
     "metadata": {},
     "output_type": "execute_result"
    }
   ],
   "source": [
    "sample_df[sample_df['target'] == 0].clean.values[-10:]"
   ]
  },
  {
   "cell_type": "markdown",
   "id": "151096a1",
   "metadata": {},
   "source": [
    "## Remove stop words:"
   ]
  },
  {
   "cell_type": "code",
   "execution_count": 20,
   "id": "0e126463",
   "metadata": {},
   "outputs": [],
   "source": [
    "# -- remove stopwords --\n",
    "stoppies = stopwords.words(\"english\")"
   ]
  },
  {
   "cell_type": "code",
   "execution_count": 21,
   "id": "fdd3271f",
   "metadata": {},
   "outputs": [
    {
     "data": {
      "text/plain": [
       "array(['yahoo owned jews',\n",
       "       'macedonia supposedly purely greek important greece english cross vergina sun flag',\n",
       "       'question muslims american women dress open deserve get raped happens encouraged trying sick funny want honest answer',\n",
       "       'could numerous acts arms severed star wars franchise metaphors scientific procedure castration',\n",
       "       'plus size women wear dresses skirts',\n",
       "       'carried terrorist attacks usa muslims non muslims',\n",
       "       'constantly get questions gun grabbing trolls attempt upset pro crowd',\n",
       "       'tamil brahmins entrepreneurship genes compared telugu brahmins',\n",
       "       'atheists want immortal',\n",
       "       'nice guys aspergers nice guys manipulative mean aspergers manipulative'],\n",
       "      dtype=object)"
      ]
     },
     "execution_count": 21,
     "metadata": {},
     "output_type": "execute_result"
    }
   ],
   "source": [
    "sample_df['clean'] = sample_df['clean'].apply(lambda x: \" \".join(x for x in str.split(x) if x not in stoppies))\n",
    "sample_df[sample_df['target'] == 1]['clean'].values[:10]"
   ]
  },
  {
   "cell_type": "code",
   "execution_count": 22,
   "id": "cc36f998",
   "metadata": {},
   "outputs": [],
   "source": [
    "# -- correct spellings -- : Stopped -- takes a lot of time, 10-15 minutes \n",
    "# sample_df['clean'] = sample_df['clean'].apply(lambda x: \" \".join(str(TextBlob(x).correct())))\n",
    "# sample_df[sample_df['target'] == 1]['clean'].values[:10]"
   ]
  },
  {
   "cell_type": "markdown",
   "id": "79a55749",
   "metadata": {},
   "source": [
    "## EDA:"
   ]
  },
  {
   "cell_type": "markdown",
   "id": "c2c58a83",
   "metadata": {},
   "source": [
    "- Using __TextBlob__ to calculate sentiment polarity which lies in the range of [-1,1] where 1 means positive sentiment and -1 means a negative sentiment.\n",
    "- Create new feature for the length of the review.\n",
    "\n",
    "- Create new feature for the word count of the review"
   ]
  },
  {
   "cell_type": "code",
   "execution_count": 23,
   "id": "7359bdd3",
   "metadata": {},
   "outputs": [
    {
     "data": {
      "text/html": [
       "<div>\n",
       "<style scoped>\n",
       "    .dataframe tbody tr th:only-of-type {\n",
       "        vertical-align: middle;\n",
       "    }\n",
       "\n",
       "    .dataframe tbody tr th {\n",
       "        vertical-align: top;\n",
       "    }\n",
       "\n",
       "    .dataframe thead th {\n",
       "        text-align: right;\n",
       "    }\n",
       "</style>\n",
       "<table border=\"1\" class=\"dataframe\">\n",
       "  <thead>\n",
       "    <tr style=\"text-align: right;\">\n",
       "      <th></th>\n",
       "      <th>question_text</th>\n",
       "      <th>target</th>\n",
       "      <th>clean</th>\n",
       "    </tr>\n",
       "  </thead>\n",
       "  <tbody>\n",
       "    <tr>\n",
       "      <th>0</th>\n",
       "      <td>Is Yahoo owned by the Jews?</td>\n",
       "      <td>1</td>\n",
       "      <td>yahoo owned jews</td>\n",
       "    </tr>\n",
       "    <tr>\n",
       "      <th>1</th>\n",
       "      <td>If Macedonia is supposedly \"purely\" Greek and ...</td>\n",
       "      <td>1</td>\n",
       "      <td>macedonia supposedly purely greek important gr...</td>\n",
       "    </tr>\n",
       "    <tr>\n",
       "      <th>2</th>\n",
       "      <td>This is a question for Muslims? Because Americ...</td>\n",
       "      <td>1</td>\n",
       "      <td>question muslims american women dress open des...</td>\n",
       "    </tr>\n",
       "    <tr>\n",
       "      <th>3</th>\n",
       "      <td>Could the numerous acts of arms being severed ...</td>\n",
       "      <td>1</td>\n",
       "      <td>could numerous acts arms severed star wars fra...</td>\n",
       "    </tr>\n",
       "    <tr>\n",
       "      <th>4</th>\n",
       "      <td>Should plus-size women wear dresses and skirts...</td>\n",
       "      <td>1</td>\n",
       "      <td>plus size women wear dresses skirts</td>\n",
       "    </tr>\n",
       "    <tr>\n",
       "      <th>5</th>\n",
       "      <td>Who carried out most terrorist attacks on the ...</td>\n",
       "      <td>1</td>\n",
       "      <td>carried terrorist attacks usa muslims non muslims</td>\n",
       "    </tr>\n",
       "    <tr>\n",
       "      <th>6</th>\n",
       "      <td>Why do we constantly get questions from gun-gr...</td>\n",
       "      <td>1</td>\n",
       "      <td>constantly get questions gun grabbing trolls a...</td>\n",
       "    </tr>\n",
       "    <tr>\n",
       "      <th>7</th>\n",
       "      <td>Does Tamil Brahmins have more entrepreneurship...</td>\n",
       "      <td>1</td>\n",
       "      <td>tamil brahmins entrepreneurship genes compared...</td>\n",
       "    </tr>\n",
       "    <tr>\n",
       "      <th>8</th>\n",
       "      <td>Do all atheists want to be immortal?</td>\n",
       "      <td>1</td>\n",
       "      <td>atheists want immortal</td>\n",
       "    </tr>\n",
       "    <tr>\n",
       "      <th>9</th>\n",
       "      <td>If most \"nice guys\" are Asperger's and \"nice g...</td>\n",
       "      <td>1</td>\n",
       "      <td>nice guys aspergers nice guys manipulative mea...</td>\n",
       "    </tr>\n",
       "    <tr>\n",
       "      <th>10</th>\n",
       "      <td>When will Sweden give up its immoral individua...</td>\n",
       "      <td>1</td>\n",
       "      <td>sweden give immoral individualist vision true ...</td>\n",
       "    </tr>\n",
       "    <tr>\n",
       "      <th>11</th>\n",
       "      <td>Why do Indians feel shame, if at all, in weari...</td>\n",
       "      <td>1</td>\n",
       "      <td>indians feel shame wearing merchandise illustr...</td>\n",
       "    </tr>\n",
       "    <tr>\n",
       "      <th>12</th>\n",
       "      <td>Who is dumber Milo Yiannopoulos, Ana Kasparian...</td>\n",
       "      <td>1</td>\n",
       "      <td>dumber milo yiannopoulos ana kasparian stephen...</td>\n",
       "    </tr>\n",
       "    <tr>\n",
       "      <th>13</th>\n",
       "      <td>Why do African-Americans act out so violently ...</td>\n",
       "      <td>1</td>\n",
       "      <td>african americans act violently native america...</td>\n",
       "    </tr>\n",
       "    <tr>\n",
       "      <th>14</th>\n",
       "      <td>When the French were trying to colonize Indoch...</td>\n",
       "      <td>1</td>\n",
       "      <td>french trying colonize indochina bring disease...</td>\n",
       "    </tr>\n",
       "    <tr>\n",
       "      <th>15</th>\n",
       "      <td>Why turks dont like mongols/mongolians?</td>\n",
       "      <td>1</td>\n",
       "      <td>turks dont like mongolsmongolians</td>\n",
       "    </tr>\n",
       "    <tr>\n",
       "      <th>16</th>\n",
       "      <td>When do you say “enough lies” to Trump? He lie...</td>\n",
       "      <td>1</td>\n",
       "      <td>say enough lies trump lies like breathes</td>\n",
       "    </tr>\n",
       "    <tr>\n",
       "      <th>17</th>\n",
       "      <td>Would it be right to conclude that women who d...</td>\n",
       "      <td>1</td>\n",
       "      <td>would right conclude women know cook cannot ke...</td>\n",
       "    </tr>\n",
       "    <tr>\n",
       "      <th>18</th>\n",
       "      <td>What do you hate about South Korean?</td>\n",
       "      <td>1</td>\n",
       "      <td>hate south korean</td>\n",
       "    </tr>\n",
       "    <tr>\n",
       "      <th>19</th>\n",
       "      <td>Do biased NFL players realize that incarcerati...</td>\n",
       "      <td>1</td>\n",
       "      <td>biased nfl players realize incarceration rates...</td>\n",
       "    </tr>\n",
       "  </tbody>\n",
       "</table>\n",
       "</div>"
      ],
      "text/plain": [
       "                                        question_text  target  \\\n",
       "0                         Is Yahoo owned by the Jews?       1   \n",
       "1   If Macedonia is supposedly \"purely\" Greek and ...       1   \n",
       "2   This is a question for Muslims? Because Americ...       1   \n",
       "3   Could the numerous acts of arms being severed ...       1   \n",
       "4   Should plus-size women wear dresses and skirts...       1   \n",
       "5   Who carried out most terrorist attacks on the ...       1   \n",
       "6   Why do we constantly get questions from gun-gr...       1   \n",
       "7   Does Tamil Brahmins have more entrepreneurship...       1   \n",
       "8                Do all atheists want to be immortal?       1   \n",
       "9   If most \"nice guys\" are Asperger's and \"nice g...       1   \n",
       "10  When will Sweden give up its immoral individua...       1   \n",
       "11  Why do Indians feel shame, if at all, in weari...       1   \n",
       "12  Who is dumber Milo Yiannopoulos, Ana Kasparian...       1   \n",
       "13  Why do African-Americans act out so violently ...       1   \n",
       "14  When the French were trying to colonize Indoch...       1   \n",
       "15            Why turks dont like mongols/mongolians?       1   \n",
       "16  When do you say “enough lies” to Trump? He lie...       1   \n",
       "17  Would it be right to conclude that women who d...       1   \n",
       "18               What do you hate about South Korean?       1   \n",
       "19  Do biased NFL players realize that incarcerati...       1   \n",
       "\n",
       "                                                clean  \n",
       "0                                    yahoo owned jews  \n",
       "1   macedonia supposedly purely greek important gr...  \n",
       "2   question muslims american women dress open des...  \n",
       "3   could numerous acts arms severed star wars fra...  \n",
       "4                 plus size women wear dresses skirts  \n",
       "5   carried terrorist attacks usa muslims non muslims  \n",
       "6   constantly get questions gun grabbing trolls a...  \n",
       "7   tamil brahmins entrepreneurship genes compared...  \n",
       "8                              atheists want immortal  \n",
       "9   nice guys aspergers nice guys manipulative mea...  \n",
       "10  sweden give immoral individualist vision true ...  \n",
       "11  indians feel shame wearing merchandise illustr...  \n",
       "12  dumber milo yiannopoulos ana kasparian stephen...  \n",
       "13  african americans act violently native america...  \n",
       "14  french trying colonize indochina bring disease...  \n",
       "15                  turks dont like mongolsmongolians  \n",
       "16           say enough lies trump lies like breathes  \n",
       "17  would right conclude women know cook cannot ke...  \n",
       "18                                  hate south korean  \n",
       "19  biased nfl players realize incarceration rates...  "
      ]
     },
     "execution_count": 23,
     "metadata": {},
     "output_type": "execute_result"
    }
   ],
   "source": [
    "sample_df[sample_df['target'] == 1].head(20).reset_index(drop=True)"
   ]
  },
  {
   "cell_type": "markdown",
   "id": "7101e7d9",
   "metadata": {},
   "source": [
    "## Implement Bag of Words:"
   ]
  },
  {
   "cell_type": "markdown",
   "id": "023ddc5c",
   "metadata": {},
   "source": [
    "### Bag of Words Intuition\n",
    "\n",
    "1. Create a list of all the words across all the text documents\n",
    "2. You convert each document into vector counts of each word\n",
    "\n",
    "\n",
    "Limitations:\n",
    "1. There may be too many words in the dataset\n",
    "2. Some words may occur too frequently\n",
    "3. Some words may occur very rarely or only once\n",
    "4. A single word may have many forms (go, gone, going or bird vs. birds)"
   ]
  },
  {
   "cell_type": "markdown",
   "id": "497ae22a",
   "metadata": {},
   "source": [
    "## Tokenizaton:\n",
    "\n",
    "- Splitting a document into words and separators."
   ]
  },
  {
   "cell_type": "code",
   "execution_count": 24,
   "id": "5968a0f2",
   "metadata": {},
   "outputs": [],
   "source": [
    "def tokenizer(text: str) -> list:\n",
    "    stemmer = SnowballStemmer(language='english')\n",
    "    return [stemmer.stem(word) for word in word_tokenize(text)]"
   ]
  },
  {
   "cell_type": "code",
   "execution_count": 25,
   "id": "d6edd144",
   "metadata": {},
   "outputs": [],
   "source": [
    "vectorizer = CountVectorizer(lowercase=True, tokenizer=tokenizer, max_features=1000, )"
   ]
  },
  {
   "cell_type": "code",
   "execution_count": 26,
   "id": "8e01ab53",
   "metadata": {},
   "outputs": [
    {
     "name": "stdout",
     "output_type": "stream",
     "text": [
      "CPU times: total: 20.8 s\n",
      "Wall time: 21.2 s\n"
     ]
    },
    {
     "data": {
      "text/html": [
       "<style>#sk-container-id-1 {color: black;background-color: white;}#sk-container-id-1 pre{padding: 0;}#sk-container-id-1 div.sk-toggleable {background-color: white;}#sk-container-id-1 label.sk-toggleable__label {cursor: pointer;display: block;width: 100%;margin-bottom: 0;padding: 0.3em;box-sizing: border-box;text-align: center;}#sk-container-id-1 label.sk-toggleable__label-arrow:before {content: \"▸\";float: left;margin-right: 0.25em;color: #696969;}#sk-container-id-1 label.sk-toggleable__label-arrow:hover:before {color: black;}#sk-container-id-1 div.sk-estimator:hover label.sk-toggleable__label-arrow:before {color: black;}#sk-container-id-1 div.sk-toggleable__content {max-height: 0;max-width: 0;overflow: hidden;text-align: left;background-color: #f0f8ff;}#sk-container-id-1 div.sk-toggleable__content pre {margin: 0.2em;color: black;border-radius: 0.25em;background-color: #f0f8ff;}#sk-container-id-1 input.sk-toggleable__control:checked~div.sk-toggleable__content {max-height: 200px;max-width: 100%;overflow: auto;}#sk-container-id-1 input.sk-toggleable__control:checked~label.sk-toggleable__label-arrow:before {content: \"▾\";}#sk-container-id-1 div.sk-estimator input.sk-toggleable__control:checked~label.sk-toggleable__label {background-color: #d4ebff;}#sk-container-id-1 div.sk-label input.sk-toggleable__control:checked~label.sk-toggleable__label {background-color: #d4ebff;}#sk-container-id-1 input.sk-hidden--visually {border: 0;clip: rect(1px 1px 1px 1px);clip: rect(1px, 1px, 1px, 1px);height: 1px;margin: -1px;overflow: hidden;padding: 0;position: absolute;width: 1px;}#sk-container-id-1 div.sk-estimator {font-family: monospace;background-color: #f0f8ff;border: 1px dotted black;border-radius: 0.25em;box-sizing: border-box;margin-bottom: 0.5em;}#sk-container-id-1 div.sk-estimator:hover {background-color: #d4ebff;}#sk-container-id-1 div.sk-parallel-item::after {content: \"\";width: 100%;border-bottom: 1px solid gray;flex-grow: 1;}#sk-container-id-1 div.sk-label:hover label.sk-toggleable__label {background-color: #d4ebff;}#sk-container-id-1 div.sk-serial::before {content: \"\";position: absolute;border-left: 1px solid gray;box-sizing: border-box;top: 0;bottom: 0;left: 50%;z-index: 0;}#sk-container-id-1 div.sk-serial {display: flex;flex-direction: column;align-items: center;background-color: white;padding-right: 0.2em;padding-left: 0.2em;position: relative;}#sk-container-id-1 div.sk-item {position: relative;z-index: 1;}#sk-container-id-1 div.sk-parallel {display: flex;align-items: stretch;justify-content: center;background-color: white;position: relative;}#sk-container-id-1 div.sk-item::before, #sk-container-id-1 div.sk-parallel-item::before {content: \"\";position: absolute;border-left: 1px solid gray;box-sizing: border-box;top: 0;bottom: 0;left: 50%;z-index: -1;}#sk-container-id-1 div.sk-parallel-item {display: flex;flex-direction: column;z-index: 1;position: relative;background-color: white;}#sk-container-id-1 div.sk-parallel-item:first-child::after {align-self: flex-end;width: 50%;}#sk-container-id-1 div.sk-parallel-item:last-child::after {align-self: flex-start;width: 50%;}#sk-container-id-1 div.sk-parallel-item:only-child::after {width: 0;}#sk-container-id-1 div.sk-dashed-wrapped {border: 1px dashed gray;margin: 0 0.4em 0.5em 0.4em;box-sizing: border-box;padding-bottom: 0.4em;background-color: white;}#sk-container-id-1 div.sk-label label {font-family: monospace;font-weight: bold;display: inline-block;line-height: 1.2em;}#sk-container-id-1 div.sk-label-container {text-align: center;}#sk-container-id-1 div.sk-container {/* jupyter's `normalize.less` sets `[hidden] { display: none; }` but bootstrap.min.css set `[hidden] { display: none !important; }` so we also need the `!important` here to be able to override the default hidden behavior on the sphinx rendered scikit-learn.org. See: https://github.com/scikit-learn/scikit-learn/issues/21755 */display: inline-block !important;position: relative;}#sk-container-id-1 div.sk-text-repr-fallback {display: none;}</style><div id=\"sk-container-id-1\" class=\"sk-top-container\"><div class=\"sk-text-repr-fallback\"><pre>CountVectorizer(max_features=1000,\n",
       "                tokenizer=&lt;function tokenizer at 0x00000242207A2290&gt;)</pre><b>In a Jupyter environment, please rerun this cell to show the HTML representation or trust the notebook. <br />On GitHub, the HTML representation is unable to render, please try loading this page with nbviewer.org.</b></div><div class=\"sk-container\" hidden><div class=\"sk-item\"><div class=\"sk-estimator sk-toggleable\"><input class=\"sk-toggleable__control sk-hidden--visually\" id=\"sk-estimator-id-1\" type=\"checkbox\" checked><label for=\"sk-estimator-id-1\" class=\"sk-toggleable__label sk-toggleable__label-arrow\">CountVectorizer</label><div class=\"sk-toggleable__content\"><pre>CountVectorizer(max_features=1000,\n",
       "                tokenizer=&lt;function tokenizer at 0x00000242207A2290&gt;)</pre></div></div></div></div></div>"
      ],
      "text/plain": [
       "CountVectorizer(max_features=1000,\n",
       "                tokenizer=<function tokenizer at 0x00000242207A2290>)"
      ]
     },
     "execution_count": 26,
     "metadata": {},
     "output_type": "execute_result"
    }
   ],
   "source": [
    "%%time\n",
    "vectorizer.fit(sample_df.clean,)"
   ]
  },
  {
   "cell_type": "code",
   "execution_count": 27,
   "id": "bda20f75",
   "metadata": {},
   "outputs": [
    {
     "data": {
      "text/plain": [
       "1000"
      ]
     },
     "execution_count": 27,
     "metadata": {},
     "output_type": "execute_result"
    }
   ],
   "source": [
    "len(vectorizer.vocabulary_)"
   ]
  },
  {
   "cell_type": "code",
   "execution_count": 28,
   "id": "77d66a42",
   "metadata": {},
   "outputs": [
    {
     "data": {
      "text/plain": [
       "array(['abl', 'abroad', 'abus', 'academ', 'accept', 'access',\n",
       "       'accomplish', 'accord', 'account', 'achiev', 'act', 'action',\n",
       "       'activ', 'actor', 'actual', 'ad', 'add', 'address', 'admiss',\n",
       "       'adult', 'advanc', 'advantag', 'advic', 'affect', 'africa',\n",
       "       'african', 'age', 'agre', 'air', 'allow', 'almost', 'alon',\n",
       "       'alreadi', 'also', 'altern', 'alway', 'amazon', 'america',\n",
       "       'american', 'amount', 'analysi', 'android', 'anim', 'anoth',\n",
       "       'answer', 'anti', 'anxieti', 'anyon', 'anyth', 'apart', 'app',\n",
       "       'appear', 'appl', 'appli', 'applic', 'approach', 'arab', 'area',\n",
       "       'arent', 'arm', 'armi', 'around', 'art', 'asian', 'ask', 'associ',\n",
       "       'atheist', 'attack', 'attend', 'attract', 'australia', 'avail',\n",
       "       'averag', 'avoid', 'away', 'b', 'babi', 'back', 'bad', 'ball',\n",
       "       'ban', 'bangalor', 'bank', 'base', 'basic', 'beauti', 'becom',\n",
       "       'begin', 'behind', 'believ', 'benefit', 'best', 'better', 'big',\n",
       "       'biggest', 'bill', 'bit', 'bitcoin', 'black', 'block'],\n",
       "      dtype=object)"
      ]
     },
     "execution_count": 28,
     "metadata": {},
     "output_type": "execute_result"
    }
   ],
   "source": [
    "vectorizer.get_feature_names_out()[:100]"
   ]
  },
  {
   "cell_type": "code",
   "execution_count": 29,
   "id": "5b1505b8",
   "metadata": {},
   "outputs": [
    {
     "name": "stdout",
     "output_type": "stream",
     "text": [
      "CPU times: total: 19.5 s\n",
      "Wall time: 19.5 s\n"
     ]
    }
   ],
   "source": [
    "%%time\n",
    "inputs = vectorizer.transform(sample_df.clean)"
   ]
  },
  {
   "cell_type": "code",
   "execution_count": 30,
   "id": "6ed94d7d",
   "metadata": {},
   "outputs": [
    {
     "data": {
      "text/plain": [
       "(100000, 1000)"
      ]
     },
     "execution_count": 30,
     "metadata": {},
     "output_type": "execute_result"
    }
   ],
   "source": [
    "inputs.shape"
   ]
  },
  {
   "cell_type": "code",
   "execution_count": 31,
   "id": "1048e893",
   "metadata": {},
   "outputs": [
    {
     "data": {
      "text/plain": [
       "<20x1000 sparse matrix of type '<class 'numpy.int64'>'\n",
       "\twith 69 stored elements in Compressed Sparse Row format>"
      ]
     },
     "execution_count": 31,
     "metadata": {},
     "output_type": "execute_result"
    }
   ],
   "source": [
    "inputs"
   ]
  },
  {
   "cell_type": "markdown",
   "id": "bc682828",
   "metadata": {},
   "source": [
    "## ML Model for Classification:"
   ]
  },
  {
   "cell_type": "code",
   "execution_count": 34,
   "id": "74c58c53",
   "metadata": {},
   "outputs": [],
   "source": [
    "train_inputs, val_inputs, train_target, val_target = split(inputs, sample_df.target, test_size=.30, random_state=42)"
   ]
  },
  {
   "cell_type": "code",
   "execution_count": 35,
   "id": "fedd5c91",
   "metadata": {},
   "outputs": [
    {
     "data": {
      "text/plain": [
       "(70000, 1000)"
      ]
     },
     "execution_count": 35,
     "metadata": {},
     "output_type": "execute_result"
    }
   ],
   "source": [
    "train_inputs.shape"
   ]
  },
  {
   "cell_type": "markdown",
   "id": "5a427897",
   "metadata": {},
   "source": [
    "## Train Logistic Regression:"
   ]
  },
  {
   "cell_type": "code",
   "execution_count": 38,
   "id": "a00a7a2e",
   "metadata": {},
   "outputs": [
    {
     "name": "stdout",
     "output_type": "stream",
     "text": [
      "CPU times: total: 1.41 s\n",
      "Wall time: 1.41 s\n"
     ]
    },
    {
     "data": {
      "text/html": [
       "<style>#sk-container-id-2 {color: black;background-color: white;}#sk-container-id-2 pre{padding: 0;}#sk-container-id-2 div.sk-toggleable {background-color: white;}#sk-container-id-2 label.sk-toggleable__label {cursor: pointer;display: block;width: 100%;margin-bottom: 0;padding: 0.3em;box-sizing: border-box;text-align: center;}#sk-container-id-2 label.sk-toggleable__label-arrow:before {content: \"▸\";float: left;margin-right: 0.25em;color: #696969;}#sk-container-id-2 label.sk-toggleable__label-arrow:hover:before {color: black;}#sk-container-id-2 div.sk-estimator:hover label.sk-toggleable__label-arrow:before {color: black;}#sk-container-id-2 div.sk-toggleable__content {max-height: 0;max-width: 0;overflow: hidden;text-align: left;background-color: #f0f8ff;}#sk-container-id-2 div.sk-toggleable__content pre {margin: 0.2em;color: black;border-radius: 0.25em;background-color: #f0f8ff;}#sk-container-id-2 input.sk-toggleable__control:checked~div.sk-toggleable__content {max-height: 200px;max-width: 100%;overflow: auto;}#sk-container-id-2 input.sk-toggleable__control:checked~label.sk-toggleable__label-arrow:before {content: \"▾\";}#sk-container-id-2 div.sk-estimator input.sk-toggleable__control:checked~label.sk-toggleable__label {background-color: #d4ebff;}#sk-container-id-2 div.sk-label input.sk-toggleable__control:checked~label.sk-toggleable__label {background-color: #d4ebff;}#sk-container-id-2 input.sk-hidden--visually {border: 0;clip: rect(1px 1px 1px 1px);clip: rect(1px, 1px, 1px, 1px);height: 1px;margin: -1px;overflow: hidden;padding: 0;position: absolute;width: 1px;}#sk-container-id-2 div.sk-estimator {font-family: monospace;background-color: #f0f8ff;border: 1px dotted black;border-radius: 0.25em;box-sizing: border-box;margin-bottom: 0.5em;}#sk-container-id-2 div.sk-estimator:hover {background-color: #d4ebff;}#sk-container-id-2 div.sk-parallel-item::after {content: \"\";width: 100%;border-bottom: 1px solid gray;flex-grow: 1;}#sk-container-id-2 div.sk-label:hover label.sk-toggleable__label {background-color: #d4ebff;}#sk-container-id-2 div.sk-serial::before {content: \"\";position: absolute;border-left: 1px solid gray;box-sizing: border-box;top: 0;bottom: 0;left: 50%;z-index: 0;}#sk-container-id-2 div.sk-serial {display: flex;flex-direction: column;align-items: center;background-color: white;padding-right: 0.2em;padding-left: 0.2em;position: relative;}#sk-container-id-2 div.sk-item {position: relative;z-index: 1;}#sk-container-id-2 div.sk-parallel {display: flex;align-items: stretch;justify-content: center;background-color: white;position: relative;}#sk-container-id-2 div.sk-item::before, #sk-container-id-2 div.sk-parallel-item::before {content: \"\";position: absolute;border-left: 1px solid gray;box-sizing: border-box;top: 0;bottom: 0;left: 50%;z-index: -1;}#sk-container-id-2 div.sk-parallel-item {display: flex;flex-direction: column;z-index: 1;position: relative;background-color: white;}#sk-container-id-2 div.sk-parallel-item:first-child::after {align-self: flex-end;width: 50%;}#sk-container-id-2 div.sk-parallel-item:last-child::after {align-self: flex-start;width: 50%;}#sk-container-id-2 div.sk-parallel-item:only-child::after {width: 0;}#sk-container-id-2 div.sk-dashed-wrapped {border: 1px dashed gray;margin: 0 0.4em 0.5em 0.4em;box-sizing: border-box;padding-bottom: 0.4em;background-color: white;}#sk-container-id-2 div.sk-label label {font-family: monospace;font-weight: bold;display: inline-block;line-height: 1.2em;}#sk-container-id-2 div.sk-label-container {text-align: center;}#sk-container-id-2 div.sk-container {/* jupyter's `normalize.less` sets `[hidden] { display: none; }` but bootstrap.min.css set `[hidden] { display: none !important; }` so we also need the `!important` here to be able to override the default hidden behavior on the sphinx rendered scikit-learn.org. See: https://github.com/scikit-learn/scikit-learn/issues/21755 */display: inline-block !important;position: relative;}#sk-container-id-2 div.sk-text-repr-fallback {display: none;}</style><div id=\"sk-container-id-2\" class=\"sk-top-container\"><div class=\"sk-text-repr-fallback\"><pre>LogisticRegression(max_iter=1000, solver=&#x27;saga&#x27;)</pre><b>In a Jupyter environment, please rerun this cell to show the HTML representation or trust the notebook. <br />On GitHub, the HTML representation is unable to render, please try loading this page with nbviewer.org.</b></div><div class=\"sk-container\" hidden><div class=\"sk-item\"><div class=\"sk-estimator sk-toggleable\"><input class=\"sk-toggleable__control sk-hidden--visually\" id=\"sk-estimator-id-2\" type=\"checkbox\" checked><label for=\"sk-estimator-id-2\" class=\"sk-toggleable__label sk-toggleable__label-arrow\">LogisticRegression</label><div class=\"sk-toggleable__content\"><pre>LogisticRegression(max_iter=1000, solver=&#x27;saga&#x27;)</pre></div></div></div></div></div>"
      ],
      "text/plain": [
       "LogisticRegression(max_iter=1000, solver='saga')"
      ]
     },
     "execution_count": 38,
     "metadata": {},
     "output_type": "execute_result"
    }
   ],
   "source": [
    "MAX_ITER = 1000\n",
    "model = LogisticRegression(max_iter=MAX_ITER, solver='saga')"
   ]
  },
  {
   "cell_type": "code",
   "execution_count": null,
   "id": "0a3aaf68",
   "metadata": {},
   "outputs": [],
   "source": [
    "%%time\n",
    "model.fit(train_inputs, train_target)"
   ]
  },
  {
   "cell_type": "code",
   "execution_count": 43,
   "id": "1a020dd0",
   "metadata": {},
   "outputs": [
    {
     "name": "stdout",
     "output_type": "stream",
     "text": [
      "Train accuracy: 0.949\n",
      "\n",
      "f1-score: 0.415\n"
     ]
    }
   ],
   "source": [
    "train_preds = model.predict(train_inputs)\n",
    "\n",
    "print(f\"Train accuracy: {(accuracy_score(train_target, train_preds)):.3f}\", \n",
    "      f\"f1-score: {(f1_score(train_target, train_preds)):.3f}\", \n",
    "      sep=\"\\n\")"
   ]
  },
  {
   "cell_type": "code",
   "execution_count": 44,
   "id": "82a0058d",
   "metadata": {},
   "outputs": [
    {
     "name": "stdout",
     "output_type": "stream",
     "text": [
      "Train accuracy: 0.946\n",
      "\n",
      "f1-score: 0.388\n"
     ]
    }
   ],
   "source": [
    "val_preds = model.predict(val_inputs)\n",
    "\n",
    "print(f\"Train accuracy: {(accuracy_score(val_target, val_preds)):.3f}\", \n",
    "      f\"f1-score: {(f1_score(val_target, val_preds)):.3f}\", \n",
    "      sep=\"\\n\")"
   ]
  },
  {
   "cell_type": "code",
   "execution_count": 45,
   "id": "801b2fb3",
   "metadata": {},
   "outputs": [
    {
     "data": {
      "text/plain": [
       "array(['How did Quebec nationalists see their province as a nation in the 1960s?',\n",
       "       'Do you have an adopted dog, how would you encourage people to adopt and not shop?',\n",
       "       'Why does velocity affect time? Does velocity affect space geometry?',\n",
       "       'How did Otto von Guericke used the Magdeburg hemispheres?',\n",
       "       'Can I convert montra helicon D to a mountain bike by just changing the tyres?',\n",
       "       'Is Gaza slowly becoming Auschwitz, Dachau or Treblinka for Palestinians?',\n",
       "       'Why does Quora automatically ban conservative opinions when reported, but does not do the same for liberal views?',\n",
       "       'Is it crazy if I wash or wipe my groceries off? Germs are everywhere.',\n",
       "       'Is there such a thing as dressing moderately, and if so, how is that different than dressing modestly?',\n",
       "       'Is it just me or have you ever been in this phase wherein you became ignorant to the people you once loved, completely disregarding their feelings/lives so you get to have something go your way and feel temporarily at ease. How did things change?'],\n",
       "      dtype=object)"
      ]
     },
     "execution_count": 45,
     "metadata": {},
     "output_type": "execute_result"
    }
   ],
   "source": [
    "sincere_df.question_text.values[:10]"
   ]
  },
  {
   "cell_type": "code",
   "execution_count": 46,
   "id": "8517bd84",
   "metadata": {},
   "outputs": [
    {
     "data": {
      "text/plain": [
       "array([0, 0, 0, 0, 0, 0, 0, 0, 0, 0], dtype=int64)"
      ]
     },
     "execution_count": 46,
     "metadata": {},
     "output_type": "execute_result"
    }
   ],
   "source": [
    "sincere_df.target.values[:10]"
   ]
  },
  {
   "cell_type": "code",
   "execution_count": 47,
   "id": "1dbf2739",
   "metadata": {},
   "outputs": [
    {
     "data": {
      "text/plain": [
       "array([0, 0, 0, 0, 0, 0, 1, 0, 0, 0], dtype=int64)"
      ]
     },
     "execution_count": 47,
     "metadata": {},
     "output_type": "execute_result"
    }
   ],
   "source": [
    "model.predict(vectorizer.transform(sincere_df.question_text.values[:10]))"
   ]
  },
  {
   "cell_type": "code",
   "execution_count": 48,
   "id": "35a9d4de",
   "metadata": {},
   "outputs": [
    {
     "data": {
      "text/plain": [
       "array(['Has the United States become the largest dictatorship in the world?',\n",
       "       'Which babies are more sweeter to their parents? Dark skin babies or light skin babies?',\n",
       "       \"If blacks support school choice and mandatory sentencing for criminals why don't they vote Republican?\",\n",
       "       'I am gay boy and I love my cousin (boy). He is sexy, but I dont know what to do. He is hot, and I want to see his di**. What should I do?',\n",
       "       'Which races have the smallest penis?',\n",
       "       'Why do females find penises ugly?',\n",
       "       'How do I marry an American woman for a Green Card? How much do they charge?',\n",
       "       \"Why do Europeans say they're the superior race, when in fact it took them over 2,000 years until mid 19th century to surpass China's largest economy?\",\n",
       "       'Did Julius Caesar bring a tyrannosaurus rex on his campaigns to frighten the Celts into submission?',\n",
       "       \"In what manner has Republican backing of 'states rights' been hypocritical and what ways have they actually restricted the ability of states to make their own laws?\"],\n",
       "      dtype=object)"
      ]
     },
     "execution_count": 48,
     "metadata": {},
     "output_type": "execute_result"
    }
   ],
   "source": [
    "insincere_df.question_text.values[:10]"
   ]
  },
  {
   "cell_type": "code",
   "execution_count": 49,
   "id": "5fa838f7",
   "metadata": {},
   "outputs": [
    {
     "data": {
      "text/plain": [
       "array([0, 0, 1, 1, 0, 0, 0, 1, 0, 0], dtype=int64)"
      ]
     },
     "execution_count": 49,
     "metadata": {},
     "output_type": "execute_result"
    }
   ],
   "source": [
    "model.predict(vectorizer.transform(insincere_df.question_text.values[:10]))"
   ]
  },
  {
   "cell_type": "markdown",
   "id": "ee7ebb35",
   "metadata": {},
   "source": [
    "## Make predictions on test dataset and submit on Kaggle:"
   ]
  },
  {
   "cell_type": "code",
   "execution_count": 50,
   "id": "a855cfa3",
   "metadata": {},
   "outputs": [
    {
     "data": {
      "text/html": [
       "<div>\n",
       "<style scoped>\n",
       "    .dataframe tbody tr th:only-of-type {\n",
       "        vertical-align: middle;\n",
       "    }\n",
       "\n",
       "    .dataframe tbody tr th {\n",
       "        vertical-align: top;\n",
       "    }\n",
       "\n",
       "    .dataframe thead th {\n",
       "        text-align: right;\n",
       "    }\n",
       "</style>\n",
       "<table border=\"1\" class=\"dataframe\">\n",
       "  <thead>\n",
       "    <tr style=\"text-align: right;\">\n",
       "      <th></th>\n",
       "      <th>qid</th>\n",
       "      <th>question_text</th>\n",
       "    </tr>\n",
       "  </thead>\n",
       "  <tbody>\n",
       "    <tr>\n",
       "      <th>0</th>\n",
       "      <td>0000163e3ea7c7a74cd7</td>\n",
       "      <td>Why do so many women become so rude and arroga...</td>\n",
       "    </tr>\n",
       "    <tr>\n",
       "      <th>1</th>\n",
       "      <td>00002bd4fb5d505b9161</td>\n",
       "      <td>When should I apply for RV college of engineer...</td>\n",
       "    </tr>\n",
       "    <tr>\n",
       "      <th>2</th>\n",
       "      <td>00007756b4a147d2b0b3</td>\n",
       "      <td>What is it really like to be a nurse practitio...</td>\n",
       "    </tr>\n",
       "    <tr>\n",
       "      <th>3</th>\n",
       "      <td>000086e4b7e1c7146103</td>\n",
       "      <td>Who are entrepreneurs?</td>\n",
       "    </tr>\n",
       "    <tr>\n",
       "      <th>4</th>\n",
       "      <td>0000c4c3fbe8785a3090</td>\n",
       "      <td>Is education really making good people nowadays?</td>\n",
       "    </tr>\n",
       "    <tr>\n",
       "      <th>...</th>\n",
       "      <td>...</td>\n",
       "      <td>...</td>\n",
       "    </tr>\n",
       "    <tr>\n",
       "      <th>375801</th>\n",
       "      <td>ffff7fa746bd6d6197a9</td>\n",
       "      <td>How many countries listed in gold import in in...</td>\n",
       "    </tr>\n",
       "    <tr>\n",
       "      <th>375802</th>\n",
       "      <td>ffffa1be31c43046ab6b</td>\n",
       "      <td>Is there an alternative to dresses on formal p...</td>\n",
       "    </tr>\n",
       "    <tr>\n",
       "      <th>375803</th>\n",
       "      <td>ffffae173b6ca6bfa563</td>\n",
       "      <td>Where I can find best friendship quotes in Tel...</td>\n",
       "    </tr>\n",
       "    <tr>\n",
       "      <th>375804</th>\n",
       "      <td>ffffb1f7f1a008620287</td>\n",
       "      <td>What are the causes of refraction of light?</td>\n",
       "    </tr>\n",
       "    <tr>\n",
       "      <th>375805</th>\n",
       "      <td>fffff85473f4699474b0</td>\n",
       "      <td>Climate change is a worrying topic. How much t...</td>\n",
       "    </tr>\n",
       "  </tbody>\n",
       "</table>\n",
       "<p>375806 rows × 2 columns</p>\n",
       "</div>"
      ],
      "text/plain": [
       "                         qid  \\\n",
       "0       0000163e3ea7c7a74cd7   \n",
       "1       00002bd4fb5d505b9161   \n",
       "2       00007756b4a147d2b0b3   \n",
       "3       000086e4b7e1c7146103   \n",
       "4       0000c4c3fbe8785a3090   \n",
       "...                      ...   \n",
       "375801  ffff7fa746bd6d6197a9   \n",
       "375802  ffffa1be31c43046ab6b   \n",
       "375803  ffffae173b6ca6bfa563   \n",
       "375804  ffffb1f7f1a008620287   \n",
       "375805  fffff85473f4699474b0   \n",
       "\n",
       "                                            question_text  \n",
       "0       Why do so many women become so rude and arroga...  \n",
       "1       When should I apply for RV college of engineer...  \n",
       "2       What is it really like to be a nurse practitio...  \n",
       "3                                  Who are entrepreneurs?  \n",
       "4        Is education really making good people nowadays?  \n",
       "...                                                   ...  \n",
       "375801  How many countries listed in gold import in in...  \n",
       "375802  Is there an alternative to dresses on formal p...  \n",
       "375803  Where I can find best friendship quotes in Tel...  \n",
       "375804        What are the causes of refraction of light?  \n",
       "375805  Climate change is a worrying topic. How much t...  \n",
       "\n",
       "[375806 rows x 2 columns]"
      ]
     },
     "execution_count": 50,
     "metadata": {},
     "output_type": "execute_result"
    }
   ],
   "source": [
    "test_df = pd.read_csv('../data/test.csv')\n",
    "test_df"
   ]
  },
  {
   "cell_type": "code",
   "execution_count": 51,
   "id": "b166e86b",
   "metadata": {},
   "outputs": [
    {
     "data": {
      "text/html": [
       "<div>\n",
       "<style scoped>\n",
       "    .dataframe tbody tr th:only-of-type {\n",
       "        vertical-align: middle;\n",
       "    }\n",
       "\n",
       "    .dataframe tbody tr th {\n",
       "        vertical-align: top;\n",
       "    }\n",
       "\n",
       "    .dataframe thead th {\n",
       "        text-align: right;\n",
       "    }\n",
       "</style>\n",
       "<table border=\"1\" class=\"dataframe\">\n",
       "  <thead>\n",
       "    <tr style=\"text-align: right;\">\n",
       "      <th></th>\n",
       "      <th>qid</th>\n",
       "      <th>question_text</th>\n",
       "      <th>clean</th>\n",
       "    </tr>\n",
       "  </thead>\n",
       "  <tbody>\n",
       "    <tr>\n",
       "      <th>0</th>\n",
       "      <td>0000163e3ea7c7a74cd7</td>\n",
       "      <td>Why do so many women become so rude and arroga...</td>\n",
       "      <td>why do so many women become so rude and arroga...</td>\n",
       "    </tr>\n",
       "    <tr>\n",
       "      <th>1</th>\n",
       "      <td>00002bd4fb5d505b9161</td>\n",
       "      <td>When should I apply for RV college of engineer...</td>\n",
       "      <td>when should i apply for rv college of engineer...</td>\n",
       "    </tr>\n",
       "    <tr>\n",
       "      <th>2</th>\n",
       "      <td>00007756b4a147d2b0b3</td>\n",
       "      <td>What is it really like to be a nurse practitio...</td>\n",
       "      <td>what is it really like to be a nurse practitioner</td>\n",
       "    </tr>\n",
       "    <tr>\n",
       "      <th>3</th>\n",
       "      <td>000086e4b7e1c7146103</td>\n",
       "      <td>Who are entrepreneurs?</td>\n",
       "      <td>who are entrepreneurs</td>\n",
       "    </tr>\n",
       "    <tr>\n",
       "      <th>4</th>\n",
       "      <td>0000c4c3fbe8785a3090</td>\n",
       "      <td>Is education really making good people nowadays?</td>\n",
       "      <td>is education really making good people nowadays</td>\n",
       "    </tr>\n",
       "    <tr>\n",
       "      <th>5</th>\n",
       "      <td>000101884c19f3515c1a</td>\n",
       "      <td>How do you train a pigeon to send messages?</td>\n",
       "      <td>how do you train a pigeon to send messages</td>\n",
       "    </tr>\n",
       "    <tr>\n",
       "      <th>6</th>\n",
       "      <td>00010f62537781f44a47</td>\n",
       "      <td>What is the currency in Langkawi?</td>\n",
       "      <td>what is the currency in langkawi</td>\n",
       "    </tr>\n",
       "    <tr>\n",
       "      <th>7</th>\n",
       "      <td>00012afbd27452239059</td>\n",
       "      <td>What is the future for Pandora, can the busine...</td>\n",
       "      <td>what is the future for pandora can the busines...</td>\n",
       "    </tr>\n",
       "    <tr>\n",
       "      <th>8</th>\n",
       "      <td>00014894849d00ba98a9</td>\n",
       "      <td>My voice range is A2-C5. My chest voice goes u...</td>\n",
       "      <td>my voice range is ac my chest voice goes up to...</td>\n",
       "    </tr>\n",
       "    <tr>\n",
       "      <th>9</th>\n",
       "      <td>000156468431f09b3cae</td>\n",
       "      <td>How much does a tutor earn in Bangalore?</td>\n",
       "      <td>how much does a tutor earn in bangalore</td>\n",
       "    </tr>\n",
       "  </tbody>\n",
       "</table>\n",
       "</div>"
      ],
      "text/plain": [
       "                    qid                                      question_text  \\\n",
       "0  0000163e3ea7c7a74cd7  Why do so many women become so rude and arroga...   \n",
       "1  00002bd4fb5d505b9161  When should I apply for RV college of engineer...   \n",
       "2  00007756b4a147d2b0b3  What is it really like to be a nurse practitio...   \n",
       "3  000086e4b7e1c7146103                             Who are entrepreneurs?   \n",
       "4  0000c4c3fbe8785a3090   Is education really making good people nowadays?   \n",
       "5  000101884c19f3515c1a        How do you train a pigeon to send messages?   \n",
       "6  00010f62537781f44a47                  What is the currency in Langkawi?   \n",
       "7  00012afbd27452239059  What is the future for Pandora, can the busine...   \n",
       "8  00014894849d00ba98a9  My voice range is A2-C5. My chest voice goes u...   \n",
       "9  000156468431f09b3cae           How much does a tutor earn in Bangalore?   \n",
       "\n",
       "                                               clean  \n",
       "0  why do so many women become so rude and arroga...  \n",
       "1  when should i apply for rv college of engineer...  \n",
       "2  what is it really like to be a nurse practitioner  \n",
       "3                              who are entrepreneurs  \n",
       "4    is education really making good people nowadays  \n",
       "5         how do you train a pigeon to send messages  \n",
       "6                   what is the currency in langkawi  \n",
       "7  what is the future for pandora can the busines...  \n",
       "8  my voice range is ac my chest voice goes up to...  \n",
       "9            how much does a tutor earn in bangalore  "
      ]
     },
     "execution_count": 51,
     "metadata": {},
     "output_type": "execute_result"
    }
   ],
   "source": [
    "test_df['clean'] = test_df['question_text'].str.replace(r'[^\\w\\s]', '', regex=True)\n",
    "test_df['clean'] = test_df['clean'].str.replace(r'[0-9]', '', regex=True)\n",
    "test_df['clean'] = test_df['clean'].apply(lambda x: \" \".join(x.lower() for x in x.split(\"-\")))\n",
    "\n",
    "test_df.head(10)"
   ]
  },
  {
   "cell_type": "code",
   "execution_count": 52,
   "id": "0698f7c1",
   "metadata": {},
   "outputs": [],
   "source": [
    "test_inputs = vectorizer.transform(test_df.clean)"
   ]
  },
  {
   "cell_type": "code",
   "execution_count": 53,
   "id": "c2501a40",
   "metadata": {},
   "outputs": [],
   "source": [
    "test_preds = model.predict(test_inputs)"
   ]
  },
  {
   "cell_type": "code",
   "execution_count": 54,
   "id": "a02fbd2a",
   "metadata": {},
   "outputs": [
    {
     "data": {
      "text/html": [
       "<div>\n",
       "<style scoped>\n",
       "    .dataframe tbody tr th:only-of-type {\n",
       "        vertical-align: middle;\n",
       "    }\n",
       "\n",
       "    .dataframe tbody tr th {\n",
       "        vertical-align: top;\n",
       "    }\n",
       "\n",
       "    .dataframe thead th {\n",
       "        text-align: right;\n",
       "    }\n",
       "</style>\n",
       "<table border=\"1\" class=\"dataframe\">\n",
       "  <thead>\n",
       "    <tr style=\"text-align: right;\">\n",
       "      <th></th>\n",
       "      <th>qid</th>\n",
       "      <th>prediction</th>\n",
       "    </tr>\n",
       "  </thead>\n",
       "  <tbody>\n",
       "    <tr>\n",
       "      <th>0</th>\n",
       "      <td>0000163e3ea7c7a74cd7</td>\n",
       "      <td>0</td>\n",
       "    </tr>\n",
       "    <tr>\n",
       "      <th>1</th>\n",
       "      <td>00002bd4fb5d505b9161</td>\n",
       "      <td>0</td>\n",
       "    </tr>\n",
       "    <tr>\n",
       "      <th>2</th>\n",
       "      <td>00007756b4a147d2b0b3</td>\n",
       "      <td>0</td>\n",
       "    </tr>\n",
       "    <tr>\n",
       "      <th>3</th>\n",
       "      <td>000086e4b7e1c7146103</td>\n",
       "      <td>0</td>\n",
       "    </tr>\n",
       "    <tr>\n",
       "      <th>4</th>\n",
       "      <td>0000c4c3fbe8785a3090</td>\n",
       "      <td>0</td>\n",
       "    </tr>\n",
       "    <tr>\n",
       "      <th>5</th>\n",
       "      <td>000101884c19f3515c1a</td>\n",
       "      <td>0</td>\n",
       "    </tr>\n",
       "    <tr>\n",
       "      <th>6</th>\n",
       "      <td>00010f62537781f44a47</td>\n",
       "      <td>0</td>\n",
       "    </tr>\n",
       "    <tr>\n",
       "      <th>7</th>\n",
       "      <td>00012afbd27452239059</td>\n",
       "      <td>0</td>\n",
       "    </tr>\n",
       "    <tr>\n",
       "      <th>8</th>\n",
       "      <td>00014894849d00ba98a9</td>\n",
       "      <td>0</td>\n",
       "    </tr>\n",
       "    <tr>\n",
       "      <th>9</th>\n",
       "      <td>000156468431f09b3cae</td>\n",
       "      <td>0</td>\n",
       "    </tr>\n",
       "  </tbody>\n",
       "</table>\n",
       "</div>"
      ],
      "text/plain": [
       "                    qid  prediction\n",
       "0  0000163e3ea7c7a74cd7           0\n",
       "1  00002bd4fb5d505b9161           0\n",
       "2  00007756b4a147d2b0b3           0\n",
       "3  000086e4b7e1c7146103           0\n",
       "4  0000c4c3fbe8785a3090           0\n",
       "5  000101884c19f3515c1a           0\n",
       "6  00010f62537781f44a47           0\n",
       "7  00012afbd27452239059           0\n",
       "8  00014894849d00ba98a9           0\n",
       "9  000156468431f09b3cae           0"
      ]
     },
     "execution_count": 54,
     "metadata": {},
     "output_type": "execute_result"
    }
   ],
   "source": [
    "submission_df = pd.read_csv('../data/sample_submission.csv')\n",
    "submission_df.head(10)"
   ]
  },
  {
   "cell_type": "code",
   "execution_count": 55,
   "id": "5060bf06",
   "metadata": {},
   "outputs": [],
   "source": [
    "submission_df.prediction = test_preds"
   ]
  },
  {
   "cell_type": "code",
   "execution_count": 56,
   "id": "bb615965",
   "metadata": {},
   "outputs": [
    {
     "data": {
      "text/html": [
       "<div>\n",
       "<style scoped>\n",
       "    .dataframe tbody tr th:only-of-type {\n",
       "        vertical-align: middle;\n",
       "    }\n",
       "\n",
       "    .dataframe tbody tr th {\n",
       "        vertical-align: top;\n",
       "    }\n",
       "\n",
       "    .dataframe thead th {\n",
       "        text-align: right;\n",
       "    }\n",
       "</style>\n",
       "<table border=\"1\" class=\"dataframe\">\n",
       "  <thead>\n",
       "    <tr style=\"text-align: right;\">\n",
       "      <th></th>\n",
       "      <th>qid</th>\n",
       "      <th>prediction</th>\n",
       "    </tr>\n",
       "  </thead>\n",
       "  <tbody>\n",
       "    <tr>\n",
       "      <th>0</th>\n",
       "      <td>0000163e3ea7c7a74cd7</td>\n",
       "      <td>0</td>\n",
       "    </tr>\n",
       "    <tr>\n",
       "      <th>1</th>\n",
       "      <td>00002bd4fb5d505b9161</td>\n",
       "      <td>0</td>\n",
       "    </tr>\n",
       "    <tr>\n",
       "      <th>2</th>\n",
       "      <td>00007756b4a147d2b0b3</td>\n",
       "      <td>0</td>\n",
       "    </tr>\n",
       "    <tr>\n",
       "      <th>3</th>\n",
       "      <td>000086e4b7e1c7146103</td>\n",
       "      <td>0</td>\n",
       "    </tr>\n",
       "    <tr>\n",
       "      <th>4</th>\n",
       "      <td>0000c4c3fbe8785a3090</td>\n",
       "      <td>0</td>\n",
       "    </tr>\n",
       "    <tr>\n",
       "      <th>...</th>\n",
       "      <td>...</td>\n",
       "      <td>...</td>\n",
       "    </tr>\n",
       "    <tr>\n",
       "      <th>375801</th>\n",
       "      <td>ffff7fa746bd6d6197a9</td>\n",
       "      <td>0</td>\n",
       "    </tr>\n",
       "    <tr>\n",
       "      <th>375802</th>\n",
       "      <td>ffffa1be31c43046ab6b</td>\n",
       "      <td>0</td>\n",
       "    </tr>\n",
       "    <tr>\n",
       "      <th>375803</th>\n",
       "      <td>ffffae173b6ca6bfa563</td>\n",
       "      <td>0</td>\n",
       "    </tr>\n",
       "    <tr>\n",
       "      <th>375804</th>\n",
       "      <td>ffffb1f7f1a008620287</td>\n",
       "      <td>0</td>\n",
       "    </tr>\n",
       "    <tr>\n",
       "      <th>375805</th>\n",
       "      <td>fffff85473f4699474b0</td>\n",
       "      <td>0</td>\n",
       "    </tr>\n",
       "  </tbody>\n",
       "</table>\n",
       "<p>375806 rows × 2 columns</p>\n",
       "</div>"
      ],
      "text/plain": [
       "                         qid  prediction\n",
       "0       0000163e3ea7c7a74cd7           0\n",
       "1       00002bd4fb5d505b9161           0\n",
       "2       00007756b4a147d2b0b3           0\n",
       "3       000086e4b7e1c7146103           0\n",
       "4       0000c4c3fbe8785a3090           0\n",
       "...                      ...         ...\n",
       "375801  ffff7fa746bd6d6197a9           0\n",
       "375802  ffffa1be31c43046ab6b           0\n",
       "375803  ffffae173b6ca6bfa563           0\n",
       "375804  ffffb1f7f1a008620287           0\n",
       "375805  fffff85473f4699474b0           0\n",
       "\n",
       "[375806 rows x 2 columns]"
      ]
     },
     "execution_count": 56,
     "metadata": {},
     "output_type": "execute_result"
    }
   ],
   "source": [
    "submission_df"
   ]
  },
  {
   "cell_type": "code",
   "execution_count": 57,
   "id": "7ef30171",
   "metadata": {},
   "outputs": [
    {
     "data": {
      "text/plain": [
       "0    366043\n",
       "1      9763\n",
       "Name: prediction, dtype: int64"
      ]
     },
     "execution_count": 57,
     "metadata": {},
     "output_type": "execute_result"
    }
   ],
   "source": [
    "submission_df.prediction.value_counts()"
   ]
  },
  {
   "cell_type": "code",
   "execution_count": 58,
   "id": "70db4886",
   "metadata": {},
   "outputs": [],
   "source": [
    "# submission_df.to_csv('../data/kaggle_quora_submission.csv', index=None)"
   ]
  },
  {
   "cell_type": "code",
   "execution_count": 60,
   "id": "42de064f",
   "metadata": {},
   "outputs": [],
   "source": [
    "test_df.drop(columns=['question_text'], inplace=True)"
   ]
  },
  {
   "cell_type": "code",
   "execution_count": 62,
   "id": "b5ae2db6",
   "metadata": {},
   "outputs": [],
   "source": [
    "test_df['predictions'] = test_preds"
   ]
  },
  {
   "cell_type": "code",
   "execution_count": 69,
   "id": "d5d70f04",
   "metadata": {},
   "outputs": [
    {
     "data": {
      "text/plain": [
       "array(['why do so many women become so rude and arrogant when they get just a little bit of wealth and power',\n",
       "       'when should i apply for rv college of engineering and bms college of engineering should i wait for the comedk result or am i supposed to apply before the result',\n",
       "       'what is it really like to be a nurse practitioner',\n",
       "       'who are entrepreneurs',\n",
       "       'is education really making good people nowadays',\n",
       "       'how do you train a pigeon to send messages',\n",
       "       'what is the currency in langkawi',\n",
       "       'what is the future for pandora can the business reduce its debt',\n",
       "       'my voice range is ac my chest voice goes up to f included sample in my higher chest range what is my voice type',\n",
       "       'how much does a tutor earn in bangalore'], dtype=object)"
      ]
     },
     "execution_count": 69,
     "metadata": {},
     "output_type": "execute_result"
    }
   ],
   "source": [
    "test_df[test_df.predictions == 0]['clean'].values[:10]"
   ]
  },
  {
   "cell_type": "code",
   "execution_count": 68,
   "id": "2e6624c5",
   "metadata": {},
   "outputs": [
    {
     "data": {
      "text/html": [
       "<div>\n",
       "<style scoped>\n",
       "    .dataframe tbody tr th:only-of-type {\n",
       "        vertical-align: middle;\n",
       "    }\n",
       "\n",
       "    .dataframe tbody tr th {\n",
       "        vertical-align: top;\n",
       "    }\n",
       "\n",
       "    .dataframe thead th {\n",
       "        text-align: right;\n",
       "    }\n",
       "</style>\n",
       "<table border=\"1\" class=\"dataframe\">\n",
       "  <thead>\n",
       "    <tr style=\"text-align: right;\">\n",
       "      <th></th>\n",
       "      <th>qid</th>\n",
       "      <th>clean</th>\n",
       "      <th>predictions</th>\n",
       "    </tr>\n",
       "  </thead>\n",
       "  <tbody>\n",
       "    <tr>\n",
       "      <th>0</th>\n",
       "      <td>0000163e3ea7c7a74cd7</td>\n",
       "      <td>why do so many women become so rude and arroga...</td>\n",
       "      <td>0</td>\n",
       "    </tr>\n",
       "    <tr>\n",
       "      <th>1</th>\n",
       "      <td>00002bd4fb5d505b9161</td>\n",
       "      <td>when should i apply for rv college of engineer...</td>\n",
       "      <td>0</td>\n",
       "    </tr>\n",
       "    <tr>\n",
       "      <th>2</th>\n",
       "      <td>00007756b4a147d2b0b3</td>\n",
       "      <td>what is it really like to be a nurse practitioner</td>\n",
       "      <td>0</td>\n",
       "    </tr>\n",
       "    <tr>\n",
       "      <th>3</th>\n",
       "      <td>000086e4b7e1c7146103</td>\n",
       "      <td>who are entrepreneurs</td>\n",
       "      <td>0</td>\n",
       "    </tr>\n",
       "    <tr>\n",
       "      <th>4</th>\n",
       "      <td>0000c4c3fbe8785a3090</td>\n",
       "      <td>is education really making good people nowadays</td>\n",
       "      <td>0</td>\n",
       "    </tr>\n",
       "    <tr>\n",
       "      <th>...</th>\n",
       "      <td>...</td>\n",
       "      <td>...</td>\n",
       "      <td>...</td>\n",
       "    </tr>\n",
       "    <tr>\n",
       "      <th>375801</th>\n",
       "      <td>ffff7fa746bd6d6197a9</td>\n",
       "      <td>how many countries listed in gold import in indua</td>\n",
       "      <td>0</td>\n",
       "    </tr>\n",
       "    <tr>\n",
       "      <th>375802</th>\n",
       "      <td>ffffa1be31c43046ab6b</td>\n",
       "      <td>is there an alternative to dresses on formal p...</td>\n",
       "      <td>0</td>\n",
       "    </tr>\n",
       "    <tr>\n",
       "      <th>375803</th>\n",
       "      <td>ffffae173b6ca6bfa563</td>\n",
       "      <td>where i can find best friendship quotes in telugu</td>\n",
       "      <td>0</td>\n",
       "    </tr>\n",
       "    <tr>\n",
       "      <th>375804</th>\n",
       "      <td>ffffb1f7f1a008620287</td>\n",
       "      <td>what are the causes of refraction of light</td>\n",
       "      <td>0</td>\n",
       "    </tr>\n",
       "    <tr>\n",
       "      <th>375805</th>\n",
       "      <td>fffff85473f4699474b0</td>\n",
       "      <td>climate change is a worrying topic how much ti...</td>\n",
       "      <td>0</td>\n",
       "    </tr>\n",
       "  </tbody>\n",
       "</table>\n",
       "<p>375806 rows × 3 columns</p>\n",
       "</div>"
      ],
      "text/plain": [
       "                         qid  \\\n",
       "0       0000163e3ea7c7a74cd7   \n",
       "1       00002bd4fb5d505b9161   \n",
       "2       00007756b4a147d2b0b3   \n",
       "3       000086e4b7e1c7146103   \n",
       "4       0000c4c3fbe8785a3090   \n",
       "...                      ...   \n",
       "375801  ffff7fa746bd6d6197a9   \n",
       "375802  ffffa1be31c43046ab6b   \n",
       "375803  ffffae173b6ca6bfa563   \n",
       "375804  ffffb1f7f1a008620287   \n",
       "375805  fffff85473f4699474b0   \n",
       "\n",
       "                                                    clean  predictions  \n",
       "0       why do so many women become so rude and arroga...            0  \n",
       "1       when should i apply for rv college of engineer...            0  \n",
       "2       what is it really like to be a nurse practitioner            0  \n",
       "3                                   who are entrepreneurs            0  \n",
       "4         is education really making good people nowadays            0  \n",
       "...                                                   ...          ...  \n",
       "375801  how many countries listed in gold import in indua            0  \n",
       "375802  is there an alternative to dresses on formal p...            0  \n",
       "375803  where i can find best friendship quotes in telugu            0  \n",
       "375804         what are the causes of refraction of light            0  \n",
       "375805  climate change is a worrying topic how much ti...            0  \n",
       "\n",
       "[375806 rows x 3 columns]"
      ]
     },
     "execution_count": 68,
     "metadata": {},
     "output_type": "execute_result"
    }
   ],
   "source": [
    "test_df"
   ]
  },
  {
   "cell_type": "code",
   "execution_count": 71,
   "id": "56597d5d",
   "metadata": {},
   "outputs": [
    {
     "data": {
      "image/png": "[encoded data removed]",
      "text/plain": [
       "<Figure size 800x560 with 1 Axes>"
      ]
     },
     "metadata": {},
     "output_type": "display_data"
    }
   ],
   "source": [
    "plt.figure(figsize=(10, 7), dpi=80)\n",
    "test_df.predictions.value_counts(normalize=True).plot.bar(color=['teal', 'skyblue'])\n",
    "plt.title(\"Countplot of predictions on test dataset\", size = 20, pad = 20)\n",
    "plt.show()"
   ]
  },
  {
   "cell_type": "markdown",
   "id": "37a3299d",
   "metadata": {},
   "source": [
    "- Model can be more accurate.\n",
    "- Target variable/class is imbalanced on which model is trained.\n",
    "- balance target variable and train model once again.\n",
    "- Move towards advanced models for the better accuracy and generalisation."
   ]
  },
  {
   "cell_type": "code",
   "execution_count": null,
   "id": "83a7fe6e",
   "metadata": {},
   "outputs": [],
   "source": []
  }
 ],
 "metadata": {
  "kernelspec": {
   "display_name": "Python 3",
   "language": "python",
   "name": "python3"
  },
  "language_info": {
   "codemirror_mode": {
    "name": "ipython",
    "version": 3
   },
   "file_extension": ".py",
   "mimetype": "text/x-python",
   "name": "python",
   "nbconvert_exporter": "python",
   "pygments_lexer": "ipython3",
   "version": "3.10.9"
  }
 },
 "nbformat": 4,
 "nbformat_minor": 5
}
