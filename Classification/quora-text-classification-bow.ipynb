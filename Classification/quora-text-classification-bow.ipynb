{
 "cells": [
  {
   "cell_type": "markdown",
   "id": "91684f73",
   "metadata": {},
   "source": [
    "# Text Classification with Bag of Words - Natural Language Processing\n",
    "\n",
    "![](https://i.imgur.com/hlEQ5X8.png)\n",
    "\n",
    "> _\"Natural language processing (NLP) is a subfield of linguistics, computer science, and artificial intelligence concerned with the interactions between computers and human language, in particular how to program computers to process and analyze large amounts of natural language data.\"_ - Wikipedia\n",
    "\n",
    "> _**Bag of Words**: The bag-of-words (BOW) model is a representation that turns arbitrary text into fixed-length vectors by counting how many times each word appears._\n",
    " \n",
    "Outline:\n",
    "\n",
    "1. Download and explore a real-world dataset\n",
    "2. Apply text preprocessing techniques\n",
    "3. Implement the bag of words model\n",
    "4. Train ML models for text classification\n",
    "5. Make predictions and submit to Kaggle\n",
    "\n",
    "\n",
    "Dataset: https://www.kaggle.com/c/quora-insincere-questions-classification\n"
   ]
  },
  {
   "cell_type": "code",
   "execution_count": 1,
   "id": "1ec998b7",
   "metadata": {},
   "outputs": [],
   "source": [
    "%matplotlib inline\n",
    "\n",
    "import os\n",
    "import re\n",
    "\n",
    "import tensorflow as tf\n",
    "\n",
    "import pandas as pd\n",
    "import numpy as np\n",
    "\n",
    "from sklearn.model_selection import train_test_split as split\n",
    "\n",
    "import matplotlib.pyplot as plt\n",
    "import seaborn as sns\n",
    "sns.set_style('whitegrid')\n",
    "os.environ['TF_CPP_MIN_LOG_LEVEL']='3'"
   ]
  },
  {
   "cell_type": "code",
   "execution_count": 2,
   "id": "d6d724db",
   "metadata": {},
   "outputs": [],
   "source": [
    "train_csv = '../data/Quora/train.csv'"
   ]
  },
  {
   "cell_type": "code",
   "execution_count": 3,
   "id": "6220a2c8",
   "metadata": {},
   "outputs": [
    {
     "data": {
      "text/html": [
       "<div>\n",
       "<style scoped>\n",
       "    .dataframe tbody tr th:only-of-type {\n",
       "        vertical-align: middle;\n",
       "    }\n",
       "\n",
       "    .dataframe tbody tr th {\n",
       "        vertical-align: top;\n",
       "    }\n",
       "\n",
       "    .dataframe thead th {\n",
       "        text-align: right;\n",
       "    }\n",
       "</style>\n",
       "<table border=\"1\" class=\"dataframe\">\n",
       "  <thead>\n",
       "    <tr style=\"text-align: right;\">\n",
       "      <th></th>\n",
       "      <th>qid</th>\n",
       "      <th>question_text</th>\n",
       "      <th>target</th>\n",
       "    </tr>\n",
       "  </thead>\n",
       "  <tbody>\n",
       "    <tr>\n",
       "      <th>0</th>\n",
       "      <td>00002165364db923c7e6</td>\n",
       "      <td>How did Quebec nationalists see their province...</td>\n",
       "      <td>0</td>\n",
       "    </tr>\n",
       "    <tr>\n",
       "      <th>1</th>\n",
       "      <td>000032939017120e6e44</td>\n",
       "      <td>Do you have an adopted dog, how would you enco...</td>\n",
       "      <td>0</td>\n",
       "    </tr>\n",
       "    <tr>\n",
       "      <th>2</th>\n",
       "      <td>0000412ca6e4628ce2cf</td>\n",
       "      <td>Why does velocity affect time? Does velocity a...</td>\n",
       "      <td>0</td>\n",
       "    </tr>\n",
       "    <tr>\n",
       "      <th>3</th>\n",
       "      <td>000042bf85aa498cd78e</td>\n",
       "      <td>How did Otto von Guericke used the Magdeburg h...</td>\n",
       "      <td>0</td>\n",
       "    </tr>\n",
       "    <tr>\n",
       "      <th>4</th>\n",
       "      <td>0000455dfa3e01eae3af</td>\n",
       "      <td>Can I convert montra helicon D to a mountain b...</td>\n",
       "      <td>0</td>\n",
       "    </tr>\n",
       "  </tbody>\n",
       "</table>\n",
       "</div>"
      ],
      "text/plain": [
       "                    qid                                      question_text  \\\n",
       "0  00002165364db923c7e6  How did Quebec nationalists see their province...   \n",
       "1  000032939017120e6e44  Do you have an adopted dog, how would you enco...   \n",
       "2  0000412ca6e4628ce2cf  Why does velocity affect time? Does velocity a...   \n",
       "3  000042bf85aa498cd78e  How did Otto von Guericke used the Magdeburg h...   \n",
       "4  0000455dfa3e01eae3af  Can I convert montra helicon D to a mountain b...   \n",
       "\n",
       "   target  \n",
       "0       0  \n",
       "1       0  \n",
       "2       0  \n",
       "3       0  \n",
       "4       0  "
      ]
     },
     "execution_count": 3,
     "metadata": {},
     "output_type": "execute_result"
    }
   ],
   "source": [
    "raw_data = pd.read_csv(train_csv)\n",
    "raw_data.head()"
   ]
  },
  {
   "cell_type": "code",
   "execution_count": 4,
   "id": "4a1a36c5",
   "metadata": {},
   "outputs": [
    {
     "name": "stdout",
     "output_type": "stream",
     "text": [
      "<class 'pandas.core.frame.DataFrame'>\n",
      "RangeIndex: 1306122 entries, 0 to 1306121\n",
      "Data columns (total 3 columns):\n",
      " #   Column         Non-Null Count    Dtype \n",
      "---  ------         --------------    ----- \n",
      " 0   qid            1306122 non-null  object\n",
      " 1   question_text  1306122 non-null  object\n",
      " 2   target         1306122 non-null  int64 \n",
      "dtypes: int64(1), object(2)\n",
      "memory usage: 29.9+ MB\n"
     ]
    }
   ],
   "source": [
    "raw_data.info()"
   ]
  },
  {
   "cell_type": "markdown",
   "id": "8976a35e",
   "metadata": {},
   "source": [
    "## Work on Sample dataset:"
   ]
  },
  {
   "cell_type": "code",
   "execution_count": 5,
   "id": "0c411fbd",
   "metadata": {},
   "outputs": [
    {
     "data": {
      "text/html": [
       "<div>\n",
       "<style scoped>\n",
       "    .dataframe tbody tr th:only-of-type {\n",
       "        vertical-align: middle;\n",
       "    }\n",
       "\n",
       "    .dataframe tbody tr th {\n",
       "        vertical-align: top;\n",
       "    }\n",
       "\n",
       "    .dataframe thead th {\n",
       "        text-align: right;\n",
       "    }\n",
       "</style>\n",
       "<table border=\"1\" class=\"dataframe\">\n",
       "  <thead>\n",
       "    <tr style=\"text-align: right;\">\n",
       "      <th></th>\n",
       "      <th>question_text</th>\n",
       "      <th>target</th>\n",
       "    </tr>\n",
       "  </thead>\n",
       "  <tbody>\n",
       "    <tr>\n",
       "      <th>1256900</th>\n",
       "      <td>Is it necessary for Blacks who come from new Y...</td>\n",
       "      <td>1</td>\n",
       "    </tr>\n",
       "    <tr>\n",
       "      <th>581819</th>\n",
       "      <td>What are the things which I can learn during m...</td>\n",
       "      <td>0</td>\n",
       "    </tr>\n",
       "    <tr>\n",
       "      <th>276873</th>\n",
       "      <td>How do you make a question so famous on Quora,...</td>\n",
       "      <td>0</td>\n",
       "    </tr>\n",
       "    <tr>\n",
       "      <th>617967</th>\n",
       "      <td>Is the Miss BumBum competition really very pop...</td>\n",
       "      <td>0</td>\n",
       "    </tr>\n",
       "    <tr>\n",
       "      <th>1025385</th>\n",
       "      <td>Do I need to disclose my asset details during ...</td>\n",
       "      <td>0</td>\n",
       "    </tr>\n",
       "  </tbody>\n",
       "</table>\n",
       "</div>"
      ],
      "text/plain": [
       "                                             question_text  target\n",
       "1256900  Is it necessary for Blacks who come from new Y...       1\n",
       "581819   What are the things which I can learn during m...       0\n",
       "276873   How do you make a question so famous on Quora,...       0\n",
       "617967   Is the Miss BumBum competition really very pop...       0\n",
       "1025385  Do I need to disclose my asset details during ...       0"
      ]
     },
     "execution_count": 5,
     "metadata": {},
     "output_type": "execute_result"
    }
   ],
   "source": [
    "sample_data =  raw_data.sample(frac=.2)\n",
    "sample_data.pop('qid')\n",
    "sample_data.head()"
   ]
  },
  {
   "cell_type": "code",
   "execution_count": 6,
   "id": "2317b66a",
   "metadata": {},
   "outputs": [
    {
     "data": {
      "text/plain": [
       "(261224, 2)"
      ]
     },
     "execution_count": 6,
     "metadata": {},
     "output_type": "execute_result"
    }
   ],
   "source": [
    "sample_data.shape"
   ]
  },
  {
   "cell_type": "code",
   "execution_count": 7,
   "id": "04f84db9",
   "metadata": {},
   "outputs": [
    {
     "data": {
      "image/png": "[encoded data removed]",
      "text/plain": [
       "<Figure size 800x560 with 1 Axes>"
      ]
     },
     "metadata": {},
     "output_type": "display_data"
    }
   ],
   "source": [
    "# - countplot on raw data(not sampled data)\n",
    "plt.figure(figsize=(10, 7), dpi=80)\n",
    "plt.title(\"Countplot of target variable\", size=20, pad=20)\n",
    "sns.countplot(data = raw_data, x = 'target', palette=['teal', 'skyblue'])\n",
    "plt.show()"
   ]
  },
  {
   "cell_type": "code",
   "execution_count": 8,
   "id": "f04df587",
   "metadata": {},
   "outputs": [
    {
     "data": {
      "text/plain": [
       "array(['Is it necessary for Blacks who come from new York to choose Guangzhou as their second home?',\n",
       "       'What are the things which I can learn during my 2 two months vacations being in second year of electronics and communication to enhance my resume?',\n",
       "       'How do you make a question so famous on Quora, so that it appears on the Quora newsletter?',\n",
       "       'Is the Miss BumBum competition really very popular in Brazil?',\n",
       "       'Do I need to disclose my asset details during IPS training?'],\n",
       "      dtype=object)"
      ]
     },
     "execution_count": 8,
     "metadata": {},
     "output_type": "execute_result"
    }
   ],
   "source": [
    "sample_data.question_text.values[:5]"
   ]
  },
  {
   "cell_type": "markdown",
   "id": "0fc4aefc",
   "metadata": {},
   "source": [
    "## Create Dataset for tensorflow Tokenization:"
   ]
  },
  {
   "cell_type": "code",
   "execution_count": 10,
   "id": "abe2ca49",
   "metadata": {},
   "outputs": [],
   "source": [
    "def custom_processing(input_sentences) -> list:\n",
    "    table = []\n",
    "    clean = re.compile(r'<.*?>')\n",
    "    for sent in input_sentences:\n",
    "        txt = re.sub(clean, '', sent)\n",
    "        t = re.sub(r'[^\\w\\s]', '', txt.lower())\n",
    "        table.append(t)\n",
    "    return table"
   ]
  },
  {
   "cell_type": "code",
   "execution_count": 12,
   "id": "d447ec4d",
   "metadata": {},
   "outputs": [],
   "source": [
    "all_questions = np.array(sample_data.question_text.values)\n",
    "all_labels = np.array(sample_data.target.values)"
   ]
  },
  {
   "cell_type": "code",
   "execution_count": 13,
   "id": "802e4e95",
   "metadata": {},
   "outputs": [
    {
     "data": {
      "text/plain": [
       "['is it necessary for blacks who come from new york to choose guangzhou as their second home',\n",
       " 'what are the things which i can learn during my 2 two months vacations being in second year of electronics and communication to enhance my resume',\n",
       " 'how do you make a question so famous on quora so that it appears on the quora newsletter',\n",
       " 'is the miss bumbum competition really very popular in brazil',\n",
       " 'do i need to disclose my asset details during ips training']"
      ]
     },
     "execution_count": 13,
     "metadata": {},
     "output_type": "execute_result"
    }
   ],
   "source": [
    "clean_questions = custom_processing(all_questions)\n",
    "clean_questions[:5]"
   ]
  },
  {
   "cell_type": "code",
   "execution_count": 16,
   "id": "f0827bed",
   "metadata": {},
   "outputs": [
    {
     "name": "stdout",
     "output_type": "stream",
     "text": [
      "training size: 195918\n",
      "validation size: 65306\n"
     ]
    }
   ],
   "source": [
    "train_inp, val_inp, train_target, val_target = split(\n",
    "    clean_questions, all_labels, test_size=.25, random_state=42)\n",
    "\n",
    "print(\n",
    "    f\"training size: {len(train_inp)}\", \n",
    "    f\"validation size: {len(val_inp)}\", \n",
    "    sep=\"\\n\"\n",
    ")"
   ]
  },
  {
   "cell_type": "markdown",
   "id": "f8ddadb9",
   "metadata": {},
   "source": [
    "## Generate Tokens and Padded Sequencess:"
   ]
  },
  {
   "cell_type": "code",
   "execution_count": 18,
   "id": "457b9920",
   "metadata": {},
   "outputs": [],
   "source": [
    "# - params\n",
    "vocab_size: int = 10_000\n",
    "max_length: int = 120\n",
    "embedding_dim: int = 16\n",
    "truncation_type: str = 'post'\n",
    "oov_token = '<OOV>'"
   ]
  },
  {
   "cell_type": "code",
   "execution_count": 21,
   "id": "56402233",
   "metadata": {},
   "outputs": [],
   "source": [
    "# Initialize tensorflow tokenizer\n",
    "tokenizer = tf.keras.preprocessing.text.Tokenizer(num_words=vocab_size, oov_token=oov_token)\n",
    "\n",
    "# fit and generate word index dictionary on training set\n",
    "tokenizer.fit_on_texts(train_inp)\n",
    "word_index = tokenizer.word_index\n",
    "\n",
    "training_sequences = tokenizer.texts_to_sequences(train_inp)\n",
    "training_paded = tf.keras.utils.pad_sequences(training_sequences, maxlen=max_length, truncating=truncation_type)\n",
    "\n",
    "# validation dataset\n",
    "val_sequences = tokenizer.texts_to_sequences(val_inp)\n",
    "val_paded = tf.keras.utils.pad_sequences(val_sequences, maxlen=max_length, truncating=truncation_type)"
   ]
  },
  {
   "cell_type": "markdown",
   "id": "8c05ac12",
   "metadata": {},
   "source": [
    "## Build and Compile model :"
   ]
  },
  {
   "cell_type": "code",
   "execution_count": 25,
   "id": "fc14cb41",
   "metadata": {},
   "outputs": [
    {
     "name": "stdout",
     "output_type": "stream",
     "text": [
      "Epoch 1/10\n",
      "6123/6123 [==============================] - 26s 4ms/step - loss: 0.1748 - accuracy: 0.9430 - val_loss: 0.1367 - val_accuracy: 0.9483\n",
      "Epoch 2/10\n",
      "6123/6123 [==============================] - 25s 4ms/step - loss: 0.1284 - accuracy: 0.9503 - val_loss: 0.1291 - val_accuracy: 0.9501\n",
      "Epoch 3/10\n",
      "6123/6123 [==============================] - 24s 4ms/step - loss: 0.1200 - accuracy: 0.9526 - val_loss: 0.1309 - val_accuracy: 0.9506\n",
      "Epoch 4/10\n",
      "6123/6123 [==============================] - 24s 4ms/step - loss: 0.1157 - accuracy: 0.9538 - val_loss: 0.1336 - val_accuracy: 0.9503\n",
      "Epoch 5/10\n",
      "6123/6123 [==============================] - 25s 4ms/step - loss: 0.1131 - accuracy: 0.9551 - val_loss: 0.1304 - val_accuracy: 0.9509\n",
      "Epoch 6/10\n",
      "6123/6123 [==============================] - 25s 4ms/step - loss: 0.1112 - accuracy: 0.9553 - val_loss: 0.1326 - val_accuracy: 0.9501\n",
      "Epoch 7/10\n",
      "6123/6123 [==============================] - 24s 4ms/step - loss: 0.1099 - accuracy: 0.9559 - val_loss: 0.1345 - val_accuracy: 0.9507\n",
      "Epoch 8/10\n",
      "6123/6123 [==============================] - 25s 4ms/step - loss: 0.1087 - accuracy: 0.9562 - val_loss: 0.1342 - val_accuracy: 0.9504\n",
      "Epoch 9/10\n",
      "6123/6123 [==============================] - 25s 4ms/step - loss: 0.1078 - accuracy: 0.9562 - val_loss: 0.1359 - val_accuracy: 0.9503\n",
      "Epoch 10/10\n",
      "6123/6123 [==============================] - 25s 4ms/step - loss: 0.1067 - accuracy: 0.9562 - val_loss: 0.1359 - val_accuracy: 0.9498\n"
     ]
    }
   ],
   "source": [
    "model = tf.keras.Sequential([\n",
    "    tf.keras.layers.Embedding(vocab_size, embedding_dim, input_length=max_length),\n",
    "    tf.keras.layers.GlobalAveragePooling1D(),\n",
    "    tf.keras.layers.Dense(16, activation='relu'),\n",
    "    tf.keras.layers.Dense(8, activation='relu'),\n",
    "    tf.keras.layers.Dense(1, activation='sigmoid'),\n",
    "])\n",
    "\n",
    "model.compile(loss='binary_crossentropy', optimizer='adam', metrics=['accuracy'])\n",
    "\n",
    "history = model.fit(training_paded, train_target, validation_data=(val_paded, val_target), epochs=10)"
   ]
  },
  {
   "cell_type": "code",
   "execution_count": 26,
   "id": "5e85d388",
   "metadata": {},
   "outputs": [
    {
     "data": {
      "image/png": "[encoded data removed]",
      "text/plain": [
       "<Figure size 900x720 with 1 Axes>"
      ]
     },
     "metadata": {},
     "output_type": "display_data"
    },
    {
     "data": {
      "image/png": "[encoded data removed]",
      "text/plain": [
       "<Figure size 900x720 with 1 Axes>"
      ]
     },
     "metadata": {},
     "output_type": "display_data"
    }
   ],
   "source": [
    "plt.figure(figsize = (10, 8), dpi = 90)\n",
    "plt.subplot(211)\n",
    "plt.title(\"Cross-Entropy loss\", pad=10)\n",
    "plt.plot(history.history['loss'], label='training', color='skyblue')\n",
    "plt.plot(history.history['val_loss'], label='validation', color='teal')\n",
    "plt.ylabel(\"Loss\")\n",
    "plt.xlabel(\"Epochs\")\n",
    "plt.legend()\n",
    "plt.show()\n",
    "\n",
    "\n",
    "# plot accuracy learning curves\n",
    "plt.figure(figsize = (10, 8), dpi = 90)\n",
    "plt.subplot(212)\n",
    "plt.title('Accuracy', pad=10)\n",
    "plt.plot(history.history['accuracy'], label='training', color='skyblue')\n",
    "plt.plot(history.history['val_accuracy'], label='validation', color='teal')\n",
    "plt.ylabel(\"Accuracy\")\n",
    "plt.xlabel(\"Epochs\")\n",
    "plt.legend()\n",
    "plt.show()"
   ]
  },
  {
   "cell_type": "code",
   "execution_count": 30,
   "id": "01665289",
   "metadata": {},
   "outputs": [
    {
     "data": {
      "text/plain": [
       "array([   0,    0,    0,    0,    0,    0,    0,    0,    0,    0,    0,\n",
       "          0,    0,    0,    0,    0,    0,    0,    0,    0,    0,    0,\n",
       "          0,    0,    0,    0,    0,    0,    0,    0,    0,    0,    0,\n",
       "          0,    0,    0,    0,    0,    0,    0,    0,    0,    0,    0,\n",
       "          0,    0,    0,    0,    0,    0,    0,    0,    0,    0,    0,\n",
       "          0,    0,    0,    0,    0,    0,    0,    0,    0,    0,    0,\n",
       "          0,    0,    0,    0,    0,    0,    0,    0,    0,    0,    0,\n",
       "          0,    0,    0,    0,    0,    0,    0,    0,    0,    0,    0,\n",
       "          0,    0,    0,    0,    0,    0,    0,    0,    0,    0,    0,\n",
       "          0,    0,    0,    0,    0,    0,    0,    0,    0,    0,    0,\n",
       "          0,    0,    3,   13,    2, 1487,  159,   14,  842,  218])"
      ]
     },
     "execution_count": 30,
     "metadata": {},
     "output_type": "execute_result"
    }
   ],
   "source": [
    "val_paded[20]"
   ]
  },
  {
   "cell_type": "code",
   "execution_count": 38,
   "id": "14cadd4d",
   "metadata": {},
   "outputs": [
    {
     "data": {
      "text/plain": [
       "['do iit professors use quora',\n",
       " 'what are emarketing strategies',\n",
       " 'if liberals genuinely dislike hierarchies and believe in egalitarianism why do they support compulsory schooling and believe in the inferiority of teenagers',\n",
       " 'do you desire to be great or to do something great',\n",
       " 'what is fieldturf made of']"
      ]
     },
     "execution_count": 38,
     "metadata": {},
     "output_type": "execute_result"
    }
   ],
   "source": [
    "train_inp[:5]"
   ]
  },
  {
   "cell_type": "code",
   "execution_count": 39,
   "id": "fd3538e9",
   "metadata": {},
   "outputs": [
    {
     "data": {
      "text/plain": [
       "array([0, 0, 1, 0, 0], dtype=int64)"
      ]
     },
     "execution_count": 39,
     "metadata": {},
     "output_type": "execute_result"
    }
   ],
   "source": [
    "train_target[:5]"
   ]
  },
  {
   "cell_type": "markdown",
   "id": "f59ef89f",
   "metadata": {},
   "source": [
    "## Make predictions below"
   ]
  },
  {
   "cell_type": "code",
   "execution_count": null,
   "id": "64137ce6",
   "metadata": {},
   "outputs": [],
   "source": [
    "# on going.."
   ]
  }
 ],
 "metadata": {
  "kernelspec": {
   "display_name": "Python 3",
   "language": "python",
   "name": "python3"
  },
  "language_info": {
   "codemirror_mode": {
    "name": "ipython",
    "version": 3
   },
   "file_extension": ".py",
   "mimetype": "text/x-python",
   "name": "python",
   "nbconvert_exporter": "python",
   "pygments_lexer": "ipython3",
   "version": "3.10.9"
  }
 },
 "nbformat": 4,
 "nbformat_minor": 5
}
