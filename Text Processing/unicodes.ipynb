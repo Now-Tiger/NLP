{
 "cells": [
  {
   "attachments": {},
   "cell_type": "markdown",
   "metadata": {},
   "source": [
    "## Text Processing with Unicode:\n",
    "<br>\n",
    "\n",
    "- Unicode supports over a million characters. Each character is assigned a number, called\n",
    "a code point. In Python, code points are written in the form \\uXXXX, where XXXX\n",
    "is the number in four-digit hexadecimal form.\n",
    "\n",
    "- Within a program, we can manipulate Unicode strings just like normal strings. However,\n",
    "when Unicode characters are stored in files or displayed on a terminal, they must\n",
    "be encoded as a stream of bytes. Some encodings (such as ASCII and Latin-2) use a\n",
    "single byte per code point.\n",
    "\n",
    "- From a Unicode perspective, characters are abstract entities that can be realized as one\n",
    "or more glyphs. Only glyphs can appear on a screen or be printed on paper. A font is\n",
    "a mapping from characters to glyphs."
   ]
  },
  {
   "cell_type": "code",
   "execution_count": 2,
   "metadata": {},
   "outputs": [],
   "source": [
    "import re \n",
    "import nltk\n",
    "import codecs\n",
    "from bs4 import BeautifulSoup"
   ]
  },
  {
   "cell_type": "code",
   "execution_count": 3,
   "metadata": {},
   "outputs": [],
   "source": [
    "PATH = nltk.data.find('corpora/unicode_samples/polish-lat2.txt')"
   ]
  },
  {
   "cell_type": "code",
   "execution_count": 4,
   "metadata": {},
   "outputs": [
    {
     "name": "stdout",
     "output_type": "stream",
     "text": [
      "b'Pruska Biblioteka Pa\\\\u0144stwowa. Jej dawne zbiory znane pod nazw\\\\u0105'\n",
      "b'\"Berlinka\" to skarb kultury i sztuki niemieckiej. Przewiezione przez'\n",
      "b'Niemc\\\\xf3w pod koniec II wojny \\\\u015bwiatowej na Dolny \\\\u015al\\\\u0105sk, zosta\\\\u0142y'\n",
      "b'odnalezione po 1945 r. na terytorium Polski. Trafi\\\\u0142y do Biblioteki'\n",
      "b'Jagiello\\\\u0144skiej w Krakowie, obejmuj\\\\u0105 ponad 500 tys. zabytkowych'\n",
      "b'archiwali\\\\xf3w, m.in. manuskrypty Goethego, Mozarta, Beethovena, Bacha.'\n"
     ]
    }
   ],
   "source": [
    "file = codecs.open(PATH, encoding=\"latin2\")\n",
    "for line in file:\n",
    "    line = line.strip()\n",
    "    print(line.encode('unicode_escape'))"
   ]
  },
  {
   "attachments": {},
   "cell_type": "markdown",
   "metadata": {},
   "source": [
    "The first line in this output illustrates a Unicode escape string preceded by the \\u escape\n",
    "string, namely \\u0144."
   ]
  },
  {
   "cell_type": "code",
   "execution_count": null,
   "metadata": {},
   "outputs": [],
   "source": []
  }
 ],
 "metadata": {
  "kernelspec": {
   "display_name": "base",
   "language": "python",
   "name": "python3"
  },
  "language_info": {
   "codemirror_mode": {
    "name": "ipython",
    "version": 3
   },
   "file_extension": ".py",
   "mimetype": "text/x-python",
   "name": "python",
   "nbconvert_exporter": "python",
   "pygments_lexer": "ipython3",
   "version": "3.8.12 (default, Oct 12 2021, 03:01:40) [MSC v.1916 64 bit (AMD64)]"
  },
  "orig_nbformat": 4,
  "vscode": {
   "interpreter": {
    "hash": "f094c4038fc4d0775cbc33a7a3ee680b24886ae141c4a096d1391413f09f20ec"
   }
  }
 },
 "nbformat": 4,
 "nbformat_minor": 2
}
