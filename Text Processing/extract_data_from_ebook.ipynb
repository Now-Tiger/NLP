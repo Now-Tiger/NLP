{
 "cells": [
  {
   "cell_type": "code",
   "execution_count": 1,
   "metadata": {},
   "outputs": [],
   "source": [
    "import requests\n",
    "import re\n",
    "\n",
    "from warnings import filterwarnings\n",
    "filterwarnings(\"ignore\")"
   ]
  },
  {
   "cell_type": "code",
   "execution_count": 5,
   "metadata": {},
   "outputs": [],
   "source": [
    "URL = 'https://www.gutenberg.org/files/2638/2638-0.txt'"
   ]
  },
  {
   "cell_type": "code",
   "execution_count": 16,
   "metadata": {},
   "outputs": [],
   "source": [
    "\n",
    "class Extract(object):\n",
    "    \"\"\"\n",
    "        Get the url to extract the data\n",
    "    \"\"\"\n",
    "    def __init__(self, url: str) -> None:\n",
    "        self.url = url\n",
    "        self.text = None\n",
    "        self.start = None\n",
    "        self.end = None\n",
    "\n",
    "    def get_ebook_data(self) -> str:\n",
    "        raw = requests.get(self.url).text\n",
    "        \"\"\"\n",
    "            1. Descard the metadata from the begining of the book\n",
    "            2. Descard the metadata from the ending of the book\n",
    "            3. Keep the relevant text\n",
    "        \"\"\"\n",
    "        self.start = re.search(r\"\\*\\*\\* START OF THIS PROJECT GUTENBERG EBOOK .* \\*\\*\\*\",raw ).end\n",
    "        self.end = re.search(r\"II\", raw).start\n",
    "        self.text = raw[self.start : self.end]\n",
    "        return self.text\n",
    "\n",
    "    def preprocessing(self, text) -> str:\n",
    "        return re.sub(\"[^A-Za-z0-9.]+\", ' ', text).lower()\n"
   ]
  },
  {
   "cell_type": "code",
   "execution_count": 18,
   "metadata": {},
   "outputs": [],
   "source": [
    "# obj = Extract(URL)\n",
    "# book = obj.get_ebook_data()\n",
    "# preprocessed_book = obj.preprocessing(book)\n",
    "# print(preprocessed_book)"
   ]
  },
  {
   "cell_type": "code",
   "execution_count": 19,
   "metadata": {},
   "outputs": [
    {
     "data": {
      "text/plain": [
       "'ï»¿The Project Gutenberg eBook of The Idiot, by Fyodor Dostoyevsky\\r\\n\\r\\nThis eBook is for the use of a'"
      ]
     },
     "execution_count": 19,
     "metadata": {},
     "output_type": "execute_result"
    }
   ],
   "source": [
    "raw_data = requests.get(URL).text\n",
    "raw_data[:100]"
   ]
  },
  {
   "cell_type": "code",
   "execution_count": 21,
   "metadata": {},
   "outputs": [
    {
     "data": {
      "text/plain": [
       "' the project gutenberg ebook of the idiot by fyodor dostoyevsky this ebook is for the use of anyone anywhere in the united states and most other parts of the world at no cost and with almost no restrictions whatsoever. you may copy it give it away or re use it under the terms of the project gutenberg license included with this ebook or online at www.gutenberg.org. if you are not located in the united states you will have to check the laws of the country where you are located before using this eb'"
      ]
     },
     "execution_count": 21,
     "metadata": {},
     "output_type": "execute_result"
    }
   ],
   "source": [
    "processed = re.sub(r\"[^A-Za-z0-9.]+\", ' ', raw_data).lower()\n",
    "processed[:500]"
   ]
  },
  {
   "cell_type": "code",
   "execution_count": 22,
   "metadata": {},
   "outputs": [
    {
     "data": {
      "text/plain": [
       "15904"
      ]
     },
     "execution_count": 22,
     "metadata": {},
     "output_type": "execute_result"
    }
   ],
   "source": [
    "# number of  times 'the' appeared in this book\n",
    "len(re.findall(r\"the\", processed))"
   ]
  },
  {
   "cell_type": "code",
   "execution_count": 23,
   "metadata": {},
   "outputs": [
    {
     "name": "stdout",
     "output_type": "stream",
     "text": [
      " the project gutenberg ebook of the idiot by fyodor dostoyevsky this ebook is for the use of anyone anywhere in the united states and most other parts of the world at no cost and with almost no restrictions whatsoever. you may copy it give it away or re use it under the terms of the project gutenberg license included with this ebook or online at www.gutenberg.org. if you are not located in the united states you will have to check the laws of the country where you are located before using this ebook. title the idiot author fyodor dostoyevsky translator eva martin release date may 2001 ebook 2638 most recently updated june 21 2021 language english character set encoding utf 8 produced by martin adamson david widger with corrections by andrew sly start of the project gutenberg ebook the idiot the idiot by fyodor dostoyevsky translated by eva martin contents partIpart ii part iii part iv partIi. towards the end of november during a thaw at nine o clock one morning a train on the warsaw and\n"
     ]
    }
   ],
   "source": [
    "# replace 'i' with 'I'\n",
    "processed_book = re.sub(r\"\\si\\s\", \"I\", processed)\n",
    "print(processed_book[:1000])"
   ]
  },
  {
   "cell_type": "code",
   "execution_count": 26,
   "metadata": {},
   "outputs": [
    {
     "data": {
      "text/plain": [
       "[]"
      ]
     },
     "execution_count": 26,
     "metadata": {},
     "output_type": "execute_result"
    }
   ],
   "source": [
    "# find all occurance of text in the format \"abc--xyz\"\n",
    "re.findall(r'[a-zA-Z0-9]*--[a-zA-Z0-9]*', processed)"
   ]
  },
  {
   "cell_type": "code",
   "execution_count": 27,
   "metadata": {},
   "outputs": [
    {
     "data": {
      "text/plain": [
       "5"
      ]
     },
     "execution_count": 27,
     "metadata": {},
     "output_type": "execute_result"
    }
   ],
   "source": [
    "string: str = \"I am learning NLP\"\n",
    "to_search: str = \"learn\"\n",
    "string.find(to_search)"
   ]
  },
  {
   "cell_type": "code",
   "execution_count": 28,
   "metadata": {},
   "outputs": [
    {
     "data": {
      "text/plain": [
       "True"
      ]
     },
     "execution_count": 28,
     "metadata": {},
     "output_type": "execute_result"
    }
   ],
   "source": [
    "to_search in string"
   ]
  },
  {
   "cell_type": "code",
   "execution_count": 29,
   "metadata": {},
   "outputs": [
    {
     "data": {
      "text/plain": [
       "-1"
      ]
     },
     "execution_count": 29,
     "metadata": {},
     "output_type": "execute_result"
    }
   ],
   "source": [
    "next_search = \"cheescake\"\n",
    "string.find(next_search)"
   ]
  },
  {
   "cell_type": "code",
   "execution_count": 30,
   "metadata": {},
   "outputs": [
    {
     "data": {
      "text/plain": [
       "False"
      ]
     },
     "execution_count": 30,
     "metadata": {},
     "output_type": "execute_result"
    }
   ],
   "source": [
    "next_search in string"
   ]
  }
 ],
 "metadata": {
  "interpreter": {
   "hash": "53dd1dbe1763949f11f2870d551a45fd28359beaca27c33898f75dcdc51239a1"
  },
  "kernelspec": {
   "display_name": "Python 3",
   "language": "python",
   "name": "python3"
  },
  "language_info": {
   "codemirror_mode": {
    "name": "ipython",
    "version": 3
   },
   "file_extension": ".py",
   "mimetype": "text/x-python",
   "name": "python",
   "nbconvert_exporter": "python",
   "pygments_lexer": "ipython3",
   "version": "3.8.12"
  }
 },
 "nbformat": 4,
 "nbformat_minor": 2
}
